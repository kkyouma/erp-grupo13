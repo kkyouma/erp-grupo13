{
 "cells": [
  {
   "cell_type": "code",
   "execution_count": 2,
   "metadata": {},
   "outputs": [
    {
     "ename": "AttributeError",
     "evalue": "'Generator' object has no attribute 'state'",
     "output_type": "error",
     "traceback": [
      "\u001b[0;31m---------------------------------------------------------------------------\u001b[0m",
      "\u001b[0;31mAttributeError\u001b[0m                            Traceback (most recent call last)",
      "\u001b[1;32m/home/kyoumas/repos/erp-grupo13/all-databse.ipynb Celda 1\u001b[0m line \u001b[0;36m1\n\u001b[1;32m     <a href='vscode-notebook-cell:/home/kyoumas/repos/erp-grupo13/all-databse.ipynb#W0sZmlsZQ%3D%3D?line=11'>12</a>\u001b[0m   region \u001b[39m=\u001b[39m fake\u001b[39m.\u001b[39mstate()\n\u001b[1;32m     <a href='vscode-notebook-cell:/home/kyoumas/repos/erp-grupo13/all-databse.ipynb#W0sZmlsZQ%3D%3D?line=13'>14</a>\u001b[0m   \u001b[39mreturn\u001b[39;00m {\u001b[39m\"\u001b[39m\u001b[39mNombre\u001b[39m\u001b[39m\"\u001b[39m: nombre, \u001b[39m\"\u001b[39m\u001b[39mCorreo\u001b[39m\u001b[39m\"\u001b[39m: correo, \u001b[39m\"\u001b[39m\u001b[39mTelefono\u001b[39m\u001b[39m\"\u001b[39m: telefono,\u001b[39m\"\u001b[39m\u001b[39mNombre de la empresa\u001b[39m\u001b[39m\"\u001b[39m: company}\n\u001b[0;32m---> <a href='vscode-notebook-cell:/home/kyoumas/repos/erp-grupo13/all-databse.ipynb#W0sZmlsZQ%3D%3D?line=15'>16</a>\u001b[0m \u001b[39mprint\u001b[39m(generar_cliente())\n",
      "\u001b[1;32m/home/kyoumas/repos/erp-grupo13/all-databse.ipynb Celda 1\u001b[0m line \u001b[0;36m1\n\u001b[1;32m     <a href='vscode-notebook-cell:/home/kyoumas/repos/erp-grupo13/all-databse.ipynb#W0sZmlsZQ%3D%3D?line=9'>10</a>\u001b[0m company \u001b[39m=\u001b[39m fake\u001b[39m.\u001b[39mcompany()\n\u001b[1;32m     <a href='vscode-notebook-cell:/home/kyoumas/repos/erp-grupo13/all-databse.ipynb#W0sZmlsZQ%3D%3D?line=10'>11</a>\u001b[0m ciudad \u001b[39m=\u001b[39m fake\u001b[39m.\u001b[39mcity()\n\u001b[0;32m---> <a href='vscode-notebook-cell:/home/kyoumas/repos/erp-grupo13/all-databse.ipynb#W0sZmlsZQ%3D%3D?line=11'>12</a>\u001b[0m region \u001b[39m=\u001b[39m fake\u001b[39m.\u001b[39;49mstate()\n\u001b[1;32m     <a href='vscode-notebook-cell:/home/kyoumas/repos/erp-grupo13/all-databse.ipynb#W0sZmlsZQ%3D%3D?line=13'>14</a>\u001b[0m \u001b[39mreturn\u001b[39;00m {\u001b[39m\"\u001b[39m\u001b[39mNombre\u001b[39m\u001b[39m\"\u001b[39m: nombre, \u001b[39m\"\u001b[39m\u001b[39mCorreo\u001b[39m\u001b[39m\"\u001b[39m: correo, \u001b[39m\"\u001b[39m\u001b[39mTelefono\u001b[39m\u001b[39m\"\u001b[39m: telefono,\u001b[39m\"\u001b[39m\u001b[39mNombre de la empresa\u001b[39m\u001b[39m\"\u001b[39m: company}\n",
      "File \u001b[0;32m~/anaconda3/envs/genDB/lib/python3.11/site-packages/faker/proxy.py:111\u001b[0m, in \u001b[0;36mFaker.__getattr__\u001b[0;34m(self, attr)\u001b[0m\n\u001b[1;32m    104\u001b[0m \u001b[39m\u001b[39m\u001b[39m\"\"\"\u001b[39;00m\n\u001b[1;32m    105\u001b[0m \u001b[39mHandles cache access and proxying behavior\u001b[39;00m\n\u001b[1;32m    106\u001b[0m \n\u001b[1;32m    107\u001b[0m \u001b[39m:param attr: attribute name\u001b[39;00m\n\u001b[1;32m    108\u001b[0m \u001b[39m:return: the appropriate attribute\u001b[39;00m\n\u001b[1;32m    109\u001b[0m \u001b[39m\"\"\"\u001b[39;00m\n\u001b[1;32m    110\u001b[0m \u001b[39mif\u001b[39;00m \u001b[39mlen\u001b[39m(\u001b[39mself\u001b[39m\u001b[39m.\u001b[39m_factories) \u001b[39m==\u001b[39m \u001b[39m1\u001b[39m:\n\u001b[0;32m--> 111\u001b[0m     \u001b[39mreturn\u001b[39;00m \u001b[39mgetattr\u001b[39m(\u001b[39mself\u001b[39m\u001b[39m.\u001b[39m_factories[\u001b[39m0\u001b[39m], attr)\n\u001b[1;32m    112\u001b[0m \u001b[39melif\u001b[39;00m attr \u001b[39min\u001b[39;00m \u001b[39mself\u001b[39m\u001b[39m.\u001b[39mgenerator_attrs:\n\u001b[1;32m    113\u001b[0m     msg \u001b[39m=\u001b[39m \u001b[39m\"\u001b[39m\u001b[39mProxying calls to `\u001b[39m\u001b[39m%s\u001b[39;00m\u001b[39m` is not implemented in multiple locale mode.\u001b[39m\u001b[39m\"\u001b[39m \u001b[39m%\u001b[39m attr\n",
      "\u001b[0;31mAttributeError\u001b[0m: 'Generator' object has no attribute 'state'"
     ]
    }
   ],
   "source": [
    "import pandas as pd\n",
    "from faker import Faker\n",
    "\n",
    "fake = Faker('es_CL')\n",
    "\n",
    "def generar_cliente():\n",
    "  nombre = fake.name()\n",
    "  correo = fake.email()\n",
    "  telefono = fake.phone_number()\n",
    "  company = fake.company()\n",
    "  ciudad = fake.city()\n",
    "\n",
    "  return {\"Nombre\": nombre, \"Correo\": correo, \"Telefono\": telefono,\"Nombre de la empresa\": company}\n",
    "\n",
    "print(generar_cliente())"
   ]
  }
 ],
 "metadata": {
  "kernelspec": {
   "display_name": "genDB",
   "language": "python",
   "name": "python3"
  },
  "language_info": {
   "codemirror_mode": {
    "name": "ipython",
    "version": 3
   },
   "file_extension": ".py",
   "mimetype": "text/x-python",
   "name": "python",
   "nbconvert_exporter": "python",
   "pygments_lexer": "ipython3",
   "version": "3.11.5"
  }
 },
 "nbformat": 4,
 "nbformat_minor": 2
}
