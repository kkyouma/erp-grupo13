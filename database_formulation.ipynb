{
 "cells": [
  {
   "cell_type": "markdown",
   "metadata": {},
   "source": [
    "Librerias necesarias"
   ]
  },
  {
   "cell_type": "code",
   "execution_count": 38,
   "metadata": {},
   "outputs": [],
   "source": [
    "import pandas as pd\n",
    "import os \n",
    "import random\n",
    "import uuid\n",
    "import string\n",
    "from faker import Faker\n",
    "from datetime import datetime, timedelta\n",
    "from IPython.display import display, Markdown # Libreria unicamente para visualizar datos markdown en jupyter"
   ]
  },
  {
   "cell_type": "markdown",
   "metadata": {},
   "source": [
    "Es necesario definir donde se almacenaran las bases de datos generadas para mantener un orden"
   ]
  },
  {
   "cell_type": "code",
   "execution_count": 39,
   "metadata": {},
   "outputs": [],
   "source": [
    "# Carpeta para almacenar las bases de datos generadas\n",
    "carpeta_database = 'database'\n",
    "\n",
    "# Crear una carpeta si esta no existe\n",
    "if not os.path.exists(carpeta_database):\n",
    "  os.makedirs(carpeta_database)\n",
    "\n",
    "# Path para guardar el archivo\n",
    "path_info_clientes = os.path.join(carpeta_database, 'info_clientes.csv')\n",
    "path_inventario = os.path.join(carpeta_database, 'inventario.csv')\n",
    "path_demanda = os.path.join(carpeta_database, 'demanda.csv')"
   ]
  },
  {
   "cell_type": "markdown",
   "metadata": {},
   "source": [
    "# Generacion de base de datos para clientes\n",
    "\n"
   ]
  },
  {
   "cell_type": "code",
   "execution_count": 40,
   "metadata": {},
   "outputs": [],
   "source": [
    "def generar_rut():\n",
    "    # Genera un número aleatorio de 8 dígitos para el cuerpo del RUT \n",
    "    cuerpo_rut = str(random.randint(10000000, 20000000))\n",
    "\n",
    "    # Calcula el dígito verificador utilizando el algoritmo de Módulo 11\n",
    "    suma = sum(int(cuerpo_rut[i]) * (i % 6 + 2) for i in range(7))\n",
    "    digito_verificador = 11 - (suma % 11)\n",
    "    if digito_verificador == 11:\n",
    "        digito_verificador = 0\n",
    "    elif digito_verificador == 10:\n",
    "        digito_verificador = 'K'\n",
    "\n",
    "    # Combina el cuerpo y el dígito verificador para formar el RUT completo\n",
    "    rut_completo = f\"{cuerpo_rut}-{digito_verificador}\"\n",
    "\n",
    "    return rut_completo"
   ]
  },
  {
   "cell_type": "code",
   "execution_count": 41,
   "metadata": {},
   "outputs": [
    {
     "data": {
      "text/markdown": [
       "|    | Nombre                               | Rut        | Ciudad              | Correo                       | Telefono        |\n",
       "|---:|:-------------------------------------|:-----------|:--------------------|:-----------------------------|:----------------|\n",
       "|  0 | Margarita Elba Álvarez Salazar       | 17990363-6 | Cochrane            | sebastian12@example.net      | +56 2 2792 3887 |\n",
       "|  1 | Cecilia Josefina Sepúlveda Gutiérrez | 13566056-3 | El Quisco           | sandovalgerardo@example.com  | +56 2 3644 3326 |\n",
       "|  2 | Pascuala Rocha Hernández             | 18408221-2 | La Reina            | alvarezdiego@example.net     | +56 57 271 0918 |\n",
       "|  3 | Francisco José Urra Orellana         | 15471676-2 | Pedro Aguirre Cerda | manriquezdoris@example.com   | +56 9 4292 5917 |\n",
       "|  4 | Milán Calderón                       | 10360999-7 | Río Verde           | nancyruiz@example.com        | +56 2 2631 5731 |\n",
       "|  5 | María Isabel Sierra Moreno           | 19814023-5 | Buin                | gpino@example.com            | +56 2 3227 3237 |\n",
       "|  6 | Daniela Vásquez Loyola               | 19536912-0 | La Florida          | geraldinemarquez@example.org | +56 2 3207 9920 |\n",
       "|  7 | Roberto Salazar                      | 11487916-8 | Cerrillos           | caceressara@example.com      | +56 2 3452 9463 |\n",
       "|  8 | Ricardo Tomás Ortiz Molina           | 15682567-3 | Graneros            | hoyarzo@example.org          | +56 2 3693 6128 |\n",
       "|  9 | Luis Sepúlveda Albornoz              | 15783792-6 | Santa Juana         | icarrasco@example.org        | +56 600 156 363 |"
      ],
      "text/plain": [
       "<IPython.core.display.Markdown object>"
      ]
     },
     "metadata": {},
     "output_type": "display_data"
    }
   ],
   "source": [
    "fake = Faker('es_CL')\n",
    "\n",
    "def generar_cliente():\n",
    "  rut = generar_rut()\n",
    "  nombre = fake.name()\n",
    "  correo = fake.email()\n",
    "  telefono = fake.phone_number()\n",
    "  ciudad = fake.city()\n",
    "\n",
    "  return {\"Nombre\": nombre, \"Rut\": rut, \"Ciudad\": ciudad, \"Correo\": correo, \"Telefono\": telefono}\n",
    "\n",
    "cantidad_clientes = 10\n",
    "\n",
    "cliente = [generar_cliente() for _ in range (cantidad_clientes)]\n",
    "\n",
    "df = pd.DataFrame(cliente)\n",
    "\n",
    "# Guardar el archivo\n",
    "df.to_csv(path_info_clientes, index=False)\n",
    "\n",
    "# Visualizar en markdown\n",
    "display(Markdown(df.to_markdown()))"
   ]
  },
  {
   "cell_type": "markdown",
   "metadata": {},
   "source": [
    "# Generacion de base de datos para inventario"
   ]
  },
  {
   "cell_type": "code",
   "execution_count": 42,
   "metadata": {},
   "outputs": [],
   "source": [
    "# Listas de tipos de productos y sabores\n",
    "tipos_productos = ['Torta', 'Queque', 'Brownie', 'Rosca', 'Dona']\n",
    "sabores = ['Chocolate', 'Frutilla', 'Vainilla', 'Caramelo', 'Nuez', 'Mora', 'Maracuya', 'Limon']\n",
    "tamaños = ['Individual', 'Pequeño', 'Mediano', 'Grande', 'Extra grande']\n",
    "rellenos = ['Manjar', 'Dulce de leche', 'Crema pastelera', 'Crema de chocolate', 'Crema de frutilla']\n",
    "cubiertas = ['Mani', 'Almendras', 'Chocolate negro', 'Chocolate blanco', 'Merengue', 'Crema', 'Nuez']\n",
    "provedores = ['Panadería Fina & Co.', 'Dolce Gusto S.R.L.', 'Repostería Selecta']"
   ]
  },
  {
   "cell_type": "markdown",
   "metadata": {},
   "source": [
    "## Genera un ID unico para cada producto segun su tipo"
   ]
  },
  {
   "cell_type": "code",
   "execution_count": 43,
   "metadata": {},
   "outputs": [],
   "source": [
    "\n",
    "conteo_por_prefijo = {}\n",
    "def generar_codigo_producto(tipos_producto):\n",
    "    # Obtén los tres primeros caracteres de la descripción\n",
    "    prefijo = tipos_producto[:3].upper()\n",
    "\n",
    "    if prefijo not in conteo_por_prefijo:\n",
    "        conteo_por_prefijo[prefijo] = 1\n",
    "    else:\n",
    "        conteo_por_prefijo[prefijo] += 1\n",
    "\n",
    "    codigo_str = str(conteo_por_prefijo[prefijo]).zfill(4)\n",
    "\n",
    "    return f\"{prefijo}{codigo_str}\"\n"
   ]
  },
  {
   "cell_type": "code",
   "execution_count": 44,
   "metadata": {},
   "outputs": [
    {
     "data": {
      "text/markdown": [
       "|    | Tipo de producto   | ID Producto   | Descripcion                                                                                 |   Precio de venta | Proveedor            |\n",
       "|---:|:-------------------|:--------------|:--------------------------------------------------------------------------------------------|------------------:|:---------------------|\n",
       "|  0 | Brownie            | BRO0001       | Brownie Grande sabor Mora relleno de Manjar y cubierto de Chocolate blanco                  |              2565 | Repostería Selecta   |\n",
       "|  1 | Torta              | TOR0001       | Torta Individual sabor Vainilla relleno de Crema de frutilla y cubierto de Chocolate blanco |              9561 | Panadería Fina & Co. |\n",
       "|  2 | Rosca              | ROS0001       | Rosca Individual sabor Mora relleno de Dulce de leche y cubierto de Chocolate blanco        |              4859 | Panadería Fina & Co. |\n",
       "|  3 | Torta              | TOR0002       | Torta Extra grande sabor Chocolate relleno de Crema de chocolate y cubierto de Crema        |              5108 | Repostería Selecta   |\n",
       "|  4 | Queque             | QUE0001       | Queque Mediano sabor Chocolate relleno de Crema de frutilla y cubierto de Almendras         |              1003 | Dolce Gusto S.R.L.   |\n",
       "|  5 | Rosca              | ROS0002       | Rosca Mediano sabor Chocolate relleno de Crema de frutilla y cubierto de Crema              |              5749 | Dolce Gusto S.R.L.   |\n",
       "|  6 | Dona               | DON0001       | Dona Extra grande sabor Maracuya relleno de Manjar y cubierto de Mani                       |              6448 | Dolce Gusto S.R.L.   |\n",
       "|  7 | Queque             | QUE0002       | Queque Grande sabor Chocolate relleno de Manjar y cubierto de Mani                          |              4079 | Panadería Fina & Co. |\n",
       "|  8 | Dona               | DON0002       | Dona Grande sabor Caramelo relleno de Crema de frutilla y cubierto de Mani                  |              7024 | Panadería Fina & Co. |\n",
       "|  9 | Torta              | TOR0003       | Torta Grande sabor Maracuya relleno de Crema de chocolate y cubierto de Almendras           |              5403 | Repostería Selecta   |"
      ],
      "text/plain": [
       "<IPython.core.display.Markdown object>"
      ]
     },
     "metadata": {},
     "output_type": "display_data"
    }
   ],
   "source": [
    "\n",
    "def generar_descripcion():\n",
    "  sabor = random.choice(sabores)\n",
    "  tamaño = random.choice(tamaños)\n",
    "  cubierta = random.choice(cubiertas)\n",
    "  relleno = random.choice(rellenos)\n",
    "\n",
    "  return sabor, tamaño, cubierta, relleno\n",
    "\n",
    "\n",
    "def generar_producto():\n",
    "  tipo_producto = random.choice(tipos_productos)\n",
    "  sabor, tamaño, cubierta, relleno = generar_descripcion()\n",
    "  descripcion = f\"{tipo_producto} {tamaño} sabor {sabor} relleno de {relleno} y cubierto de {cubierta}\"\n",
    "  id_producto = generar_codigo_producto(tipo_producto)\n",
    "  precio = fake.random_int(min=1000, max=10000)\n",
    "  provedor = random.choice(provedores)\n",
    "\n",
    "  return {\"Tipo de producto\": tipo_producto, \"ID Producto\": id_producto, \"Descripcion\": descripcion,\"Precio de venta\": precio, \"Proveedor\": provedor}\n",
    "\n",
    "num_productos = 10\n",
    "\n",
    "producto = [generar_producto() for _ in range (num_productos)]\n",
    "\n",
    "df = pd.DataFrame(producto)\n",
    "\n",
    "#Guardar el archivo\n",
    "df.to_csv(path_inventario, index=False)\n",
    "\n",
    "# Visualizar en markdown\n",
    "display(Markdown(df.to_markdown()))"
   ]
  },
  {
   "cell_type": "markdown",
   "metadata": {},
   "source": [
    "# Generacion de base de datos para ventas"
   ]
  },
  {
   "cell_type": "markdown",
   "metadata": {},
   "source": [
    "## Leer base de datos de clientes\n",
    "Esto es un paso necesario para porder asociar los clientes ya generados y de los cuales tenemos informacion, con los productos en inventario."
   ]
  },
  {
   "cell_type": "code",
   "execution_count": 45,
   "metadata": {},
   "outputs": [],
   "source": [
    "df_clientes = pd.read_csv(path_info_clientes)\n",
    "\n",
    "nombres_clientes = df_clientes['Nombre']\n"
   ]
  },
  {
   "cell_type": "code",
   "execution_count": 46,
   "metadata": {},
   "outputs": [],
   "source": [
    "df_productos = pd.read_csv(path_inventario)\n",
    "\n",
    "fila_aleatoria = df_productos.sample(1)\n",
    "\n",
    "tipo_producto = fila_aleatoria['Tipo de producto'].values[0]\n",
    "codigo_producto = fila_aleatoria['ID Producto'].values[0]"
   ]
  },
  {
   "cell_type": "code",
   "execution_count": 47,
   "metadata": {},
   "outputs": [],
   "source": [
    "# Establecer un rango realista para las fechas de compras\n",
    "fecha_actual = datetime.now()\n",
    "\n",
    "inicio_rango = fecha_actual - timedelta (days = 180)"
   ]
  },
  {
   "cell_type": "markdown",
   "metadata": {},
   "source": [
    "Se genera una tabla que contenga una fecha realista para la demanda del producto, un nombre de cliente extraido de la base de datos y un tipo de producto que desee. Cabe destacar que de esta forma y usando la funcion 'random.choice' es que puede existir clientes que demanden mas de un tipo de producto, lo cual es completamente valido y cumple con una situacion realista. "
   ]
  },
  {
   "cell_type": "code",
   "execution_count": 48,
   "metadata": {},
   "outputs": [
    {
     "data": {
      "text/markdown": [
       "|    | Fecha      | Nombre                       | Producto demandado   | ID Producto   | ID Compra   |\n",
       "|---:|:-----------|:-----------------------------|:---------------------|:--------------|:------------|\n",
       "|  0 | 2023-07-05 | Luis Sepúlveda Albornoz      | Rosca                | ROS0002       | CFE2515     |\n",
       "|  1 | 2023-06-10 | Roberto Salazar              | Torta                | TOR0001       | 2E5F44D     |\n",
       "|  2 | 2023-10-09 | Luis Sepúlveda Albornoz      | Torta                | TOR0003       | 3D0130E     |\n",
       "|  3 | 2023-09-19 | Francisco José Urra Orellana | Brownie              | BRO0001       | CE4ADCB     |\n",
       "|  4 | 2023-06-27 | Luis Sepúlveda Albornoz      | Torta                | TOR0001       | C1669A1     |\n",
       "|  5 | 2023-08-23 | Francisco José Urra Orellana | Rosca                | ROS0001       | 77849CF     |\n",
       "|  6 | 2023-06-04 | Roberto Salazar              | Rosca                | ROS0001       | 10EAA33     |\n",
       "|  7 | 2023-09-20 | Ricardo Tomás Ortiz Molina   | Brownie              | BRO0001       | C0E6888     |\n",
       "|  8 | 2023-08-31 | Ricardo Tomás Ortiz Molina   | Rosca                | ROS0002       | CC7B9AB     |\n",
       "|  9 | 2023-08-08 | Pascuala Rocha Hernández     | Queque               | QUE0002       | D9AFE7C     |"
      ],
      "text/plain": [
       "<IPython.core.display.Markdown object>"
      ]
     },
     "metadata": {},
     "output_type": "display_data"
    }
   ],
   "source": [
    "def generar_demanda():\n",
    "  fecha = fake.date_between_dates(date_start=inicio_rango, date_end=fecha_actual)\n",
    "  nombre_cliente = random.choice(nombres_clientes)\n",
    "  \n",
    "  # Selecciona una fila aleatoria del DataFrame de productos\n",
    "  producto = df_productos.sample(1).iloc[0]\n",
    "  \n",
    "  tipo_producto = producto['Tipo de producto']\n",
    "  codigo_producto = producto['ID Producto']\n",
    "\n",
    "  id_compra = uuid.uuid4().hex[:7].upper()\n",
    "\n",
    "  return {\"Fecha\": fecha, \"Nombre\": nombre_cliente, \"Producto demandado\": tipo_producto, \"ID Producto\": codigo_producto, \"ID Compra\": id_compra}\n",
    "\n",
    "num_demanda_clientes = 10\n",
    "\n",
    "demanda = [generar_demanda() for _ in range (num_demanda_clientes)]\n",
    "\n",
    "df = pd.DataFrame(demanda)\n",
    "\n",
    "# Guardar el archivo\n",
    "df.to_csv(path_demanda, index=False)\n",
    "\n",
    "# Visualizar en markdown\n",
    "display(Markdown(df.to_markdown()))"
   ]
  }
 ],
 "metadata": {
  "kernelspec": {
   "display_name": "genDB",
   "language": "python",
   "name": "python3"
  },
  "language_info": {
   "codemirror_mode": {
    "name": "ipython",
    "version": 3
   },
   "file_extension": ".py",
   "mimetype": "text/x-python",
   "name": "python",
   "nbconvert_exporter": "python",
   "pygments_lexer": "ipython3",
   "version": "3.11.5"
  }
 },
 "nbformat": 4,
 "nbformat_minor": 2
}
