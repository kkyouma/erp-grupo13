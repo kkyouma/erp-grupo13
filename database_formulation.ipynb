{
 "cells": [
  {
   "cell_type": "markdown",
   "metadata": {},
   "source": [
    "Librerias necesarias"
   ]
  },
  {
   "cell_type": "code",
   "execution_count": 180,
   "metadata": {},
   "outputs": [],
   "source": [
    "import pandas as pd\n",
    "import os \n",
    "import random\n",
    "import uuid\n",
    "import string\n",
    "from faker import Faker\n",
    "from datetime import datetime, timedelta\n",
    "from IPython.display import display, Markdown # Libreria unicamente para visualizar datos markdown en jupyter"
   ]
  },
  {
   "cell_type": "markdown",
   "metadata": {},
   "source": [
    "Es necesario definir donde se almacenaran las bases de datos generadas para mantener un orden"
   ]
  },
  {
   "cell_type": "code",
   "execution_count": 181,
   "metadata": {},
   "outputs": [],
   "source": [
    "# Carpeta para almacenar las bases de datos generadas\n",
    "carpeta_database = 'database'\n",
    "\n",
    "# Crear una carpeta si esta no existe\n",
    "if not os.path.exists(carpeta_database):\n",
    "  os.makedirs(carpeta_database)\n",
    "\n",
    "# Path para guardar el archivo\n",
    "path_info_clientes = os.path.join(carpeta_database, 'info_clientes.csv')\n",
    "path_inventario = os.path.join(carpeta_database, 'inventario.csv')\n",
    "path_demanda = os.path.join(carpeta_database, 'demanda.csv')"
   ]
  },
  {
   "cell_type": "markdown",
   "metadata": {},
   "source": [
    "# Generacion de base de datos para clientes\n",
    "\n"
   ]
  },
  {
   "cell_type": "code",
   "execution_count": 182,
   "metadata": {},
   "outputs": [],
   "source": [
    "def generar_rut():\n",
    "    # Genera un número aleatorio de 8 dígitos para el cuerpo del RUT \n",
    "    cuerpo_rut = str(random.randint(10000000, 20000000))\n",
    "\n",
    "    # Calcula el dígito verificador utilizando el algoritmo de Módulo 11\n",
    "    suma = sum(int(cuerpo_rut[i]) * (i % 6 + 2) for i in range(7))\n",
    "    digito_verificador = 11 - (suma % 11)\n",
    "    if digito_verificador == 11:\n",
    "        digito_verificador = 0\n",
    "    elif digito_verificador == 10:\n",
    "        digito_verificador = 'K'\n",
    "\n",
    "    # Combina el cuerpo y el dígito verificador para formar el RUT completo\n",
    "    rut_completo = f\"{cuerpo_rut}-{digito_verificador}\"\n",
    "\n",
    "    return rut_completo"
   ]
  },
  {
   "cell_type": "code",
   "execution_count": 183,
   "metadata": {},
   "outputs": [],
   "source": [
    "fake = Faker('es_CL')\n",
    "\n",
    "def generar_cliente():\n",
    "  rut = generar_rut()\n",
    "  nombre = fake.name()\n",
    "  correo = fake.email()\n",
    "  telefono = fake.phone_number()\n",
    "  ciudad = fake.city()\n",
    "\n",
    "  return {\"Nombre\": nombre, \"Rut\": rut, \"Ciudad\": ciudad, \"Correo\": correo, \"Telefono\": telefono}\n",
    "\n",
    "cantidad_clientes = 1000\n",
    "\n",
    "cliente = [generar_cliente() for _ in range (cantidad_clientes)]\n",
    "\n",
    "df = pd.DataFrame(cliente)\n",
    "\n",
    "# Guardar el archivo\n",
    "df.to_csv(path_info_clientes, index=False)\n",
    "\n",
    "# Visualizar en markdown\n",
    "#display(Markdown(df.to_markdown()))"
   ]
  },
  {
   "cell_type": "code",
   "execution_count": null,
   "metadata": {},
   "outputs": [],
   "source": []
  },
  {
   "cell_type": "markdown",
   "metadata": {},
   "source": [
    "# Generacion de base de datos para inventario"
   ]
  },
  {
   "cell_type": "code",
   "execution_count": 184,
   "metadata": {},
   "outputs": [],
   "source": [
    "# Listas de tipos de productos y sabores\n",
    "tipos_productos = ['Torta', 'Queque', 'Brownie', 'Rosca', 'Dona', 'Galleta', 'Magdalena', 'Tarta', 'Cupcake']\n",
    "sabores = ['Chocolate', 'Frutilla', 'Vainilla', 'Caramelo', 'Nuez', 'Mora', 'Maracuya', 'Limon', 'Canela', 'Coco', 'Frambuesa', 'Pera', 'Plátano', 'Mango', 'Pistacho', 'Café']\n",
    "tamaños = ['Individual', 'Mini', 'Grande', 'Extra grande']\n",
    "rellenos = ['Manjar', 'Dulce de leche', 'Crema pastelera', 'Crema de chocolate', 'Crema de frutilla']\n",
    "cubiertas = ['Mani', 'Almendras', 'Chocolate negro', 'Chocolate blanco', 'Merengue', 'Crema', 'Nuez']\n",
    "provedores = ['Panadería Fina & Co.', 'Dolce Gusto S.R.L.', 'Repostería Selecta', 'Delicias Artesanas', 'Pastelería Gourmet', 'Pan y Más']"
   ]
  },
  {
   "cell_type": "markdown",
   "metadata": {},
   "source": [
    "## Genera un ID unico para cada producto segun su tipo"
   ]
  },
  {
   "cell_type": "code",
   "execution_count": 185,
   "metadata": {},
   "outputs": [],
   "source": [
    "\n",
    "conteo_por_prefijo = {}\n",
    "def generar_codigo_producto(tipos_producto):\n",
    "    # Obtén los tres primeros caracteres de la descripción\n",
    "    prefijo = tipos_producto[:3].upper()\n",
    "\n",
    "    if prefijo not in conteo_por_prefijo:\n",
    "        conteo_por_prefijo[prefijo] = 1\n",
    "    else:\n",
    "        conteo_por_prefijo[prefijo] += 1\n",
    "\n",
    "    codigo_str = str(conteo_por_prefijo[prefijo]).zfill(4)\n",
    "\n",
    "    return f\"{prefijo}{codigo_str}\"\n"
   ]
  },
  {
   "cell_type": "code",
   "execution_count": 186,
   "metadata": {},
   "outputs": [],
   "source": [
    "\n",
    "def generar_descripcion():\n",
    "  sabor = random.choice(sabores)\n",
    "  tamaño = random.choice(tamaños)\n",
    "  cubierta = random.choice(cubiertas)\n",
    "  relleno = random.choice(rellenos)\n",
    "\n",
    "  return sabor, tamaño, cubierta, relleno\n",
    "\n",
    "\n",
    "def generar_producto():\n",
    "  tipo_producto = random.choice(tipos_productos)\n",
    "  sabor, tamaño, cubierta, relleno = generar_descripcion()\n",
    "  descripcion = f\"{tipo_producto} {tamaño} sabor {sabor} relleno de {relleno} y cubierto de {cubierta}\"\n",
    "  id_producto = generar_codigo_producto(tipo_producto)\n",
    "  precio = fake.random_int(min=1000, max=10000)\n",
    "  provedor = random.choice(provedores)\n",
    "\n",
    "  return {\"Tipo de producto\": tipo_producto, \"ID Producto\": id_producto, \"Descripcion\": descripcion,\"Precio de venta\": precio, \"Proveedor\": provedor}\n",
    "\n",
    "num_productos = 1000\n",
    "\n",
    "producto = [generar_producto() for _ in range (num_productos)]\n",
    "\n",
    "df = pd.DataFrame(producto)\n",
    "\n",
    "#Guardar el archivo\n",
    "df.to_csv(path_inventario, index=False)\n",
    "\n",
    "# Visualizar en markdown\n",
    "#isplay(Markdown(df.to_markdown()))"
   ]
  },
  {
   "cell_type": "markdown",
   "metadata": {},
   "source": [
    "# Generacion de base de datos para ventas"
   ]
  },
  {
   "cell_type": "markdown",
   "metadata": {},
   "source": [
    "## Leer base de datos de clientes\n",
    "Esto es un paso necesario para porder asociar los clientes ya generados y de los cuales tenemos informacion, con los productos en inventario."
   ]
  },
  {
   "cell_type": "code",
   "execution_count": 187,
   "metadata": {},
   "outputs": [],
   "source": [
    "df_clientes = pd.read_csv(path_info_clientes)"
   ]
  },
  {
   "cell_type": "code",
   "execution_count": 188,
   "metadata": {},
   "outputs": [],
   "source": [
    "df_productos = pd.read_csv(path_inventario)"
   ]
  },
  {
   "cell_type": "code",
   "execution_count": 189,
   "metadata": {},
   "outputs": [],
   "source": [
    "# Establecer un rango realista para las fechas de compras\n",
    "fecha_actual = datetime.now()\n",
    "\n",
    "inicio_rango = fecha_actual - timedelta (days = 180)"
   ]
  },
  {
   "cell_type": "markdown",
   "metadata": {},
   "source": [
    "Se genera una tabla que contenga una fecha realista para la demanda del producto, un nombre de cliente extraido de la base de datos y un tipo de producto que desee. Cabe destacar que de esta forma y usando la funcion 'random.choice' es que puede existir clientes que demanden mas de un tipo de producto, lo cual es completamente valido y cumple con una situacion realista. "
   ]
  },
  {
   "cell_type": "code",
   "execution_count": 190,
   "metadata": {},
   "outputs": [],
   "source": [
    "def generar_demanda():\n",
    "  fecha_compra = fake.date_between_dates(date_start=inicio_rango, date_end=fecha_actual)\n",
    "  \n",
    "  # Selecciona una fila aleatoria del DataFrame de productos\n",
    "  producto = df_productos.sample(1).iloc[0]\n",
    "  tipo_producto = producto['Tipo de producto']\n",
    "  codigo_producto = producto['ID Producto']\n",
    "\n",
    "  cliente = df_clientes.sample(1).iloc[0]\n",
    "  nombre_cliente = cliente['Nombre']\n",
    "  rut = cliente['Rut']\n",
    "  \n",
    "  id_compra = uuid.uuid4().hex[:6]\n",
    "\n",
    "  return {\"ID Compra\": id_compra, \"Fecha de compra\": fecha_compra, \"Nombre\": nombre_cliente,\"Rut\": rut, \"Producto demandado\": tipo_producto, \"ID Producto\": codigo_producto}\n",
    "\n",
    "num_demanda_clientes = 1000\n",
    "\n",
    "demanda = [generar_demanda() for _ in range (num_demanda_clientes)]\n",
    "\n",
    "df = pd.DataFrame(demanda)\n",
    "\n",
    "# Guardar el archivo\n",
    "df.to_csv(path_demanda, index=False)\n",
    "\n",
    "# Visualizar en markdown\n",
    "#display(Markdown(df.to_markdown()))"
   ]
  }
 ],
 "metadata": {
  "kernelspec": {
   "display_name": "genDB",
   "language": "python",
   "name": "python3"
  },
  "language_info": {
   "codemirror_mode": {
    "name": "ipython",
    "version": 3
   },
   "file_extension": ".py",
   "mimetype": "text/x-python",
   "name": "python",
   "nbconvert_exporter": "python",
   "pygments_lexer": "ipython3",
   "version": "3.11.5"
  }
 },
 "nbformat": 4,
 "nbformat_minor": 2
}
