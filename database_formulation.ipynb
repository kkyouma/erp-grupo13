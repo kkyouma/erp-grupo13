{
 "cells": [
  {
   "cell_type": "markdown",
   "metadata": {},
   "source": [
    "Librerias necesarias"
   ]
  },
  {
   "cell_type": "code",
   "execution_count": 4,
   "metadata": {},
   "outputs": [],
   "source": [
    "import pandas as pd\n",
    "from faker import Faker\n",
    "from datetime import datetime, timedelta\n",
    "from IPython.display import display, Markdown\n",
    "import random"
   ]
  },
  {
   "cell_type": "markdown",
   "metadata": {},
   "source": [
    "# Generacion de base de datos para clientes\n",
    "\n"
   ]
  },
  {
   "cell_type": "code",
   "execution_count": 2,
   "metadata": {},
   "outputs": [
    {
     "data": {
      "text/markdown": [
       "|    | Nombre                      | Ciudad       | Correo              | Telefono        | Fecha de compra   |\n",
       "|---:|:----------------------------|:-------------|:--------------------|:----------------|:------------------|\n",
       "|  0 | María Juana Salazar Rosales | San Fernando | fvaldes@example.com | +56 33 340 6104 | 2023-06-16        |"
      ],
      "text/plain": [
       "<IPython.core.display.Markdown object>"
      ]
     },
     "metadata": {},
     "output_type": "display_data"
    }
   ],
   "source": [
    "fake = Faker('es_CL')\n",
    "\n",
    "# Establecer un rango realista para las fechas de compras\n",
    "fecha_actual = datetime.now()\n",
    "\n",
    "inicio_rango = fecha_actual - timedelta (days = 180)\n",
    "\n",
    "fecha_compra = fake.date_between_dates(date_start=inicio_rango, date_end=fecha_actual)\n",
    "\n",
    "def generar_cliente():\n",
    "  nombre = fake.name()\n",
    "  correo = fake.email()\n",
    "  telefono = fake.phone_number()\n",
    "  fecha = fecha_compra\n",
    "  ciudad = fake.city()\n",
    "\n",
    "  return {\"Nombre\": nombre, \"Ciudad\": ciudad, \"Correo\": correo, \"Telefono\": telefono, \"Fecha de compra\": fecha}\n",
    "\n",
    "cliente = generar_cliente()\n",
    "\n",
    "df = pd.DataFrame([cliente])\n",
    "\n",
    "display(Markdown(df.to_markdown()))"
   ]
  },
  {
   "cell_type": "markdown",
   "metadata": {},
   "source": [
    "# Generacion de base de datos para inventario"
   ]
  },
  {
   "cell_type": "code",
   "execution_count": 6,
   "metadata": {},
   "outputs": [
    {
     "data": {
      "text/markdown": [
       "|    | Nombre         | Descripcion            |   Precio |\n",
       "|---:|:---------------|:-----------------------|---------:|\n",
       "|  0 | maxime         | Rosca sabor Frutilla   |     1338 |\n",
       "|  1 | tempora        | Rosca sabor Caramelo   |     4414 |\n",
       "|  2 | odio           | Rosca sabor Vainilla   |     7185 |\n",
       "|  3 | quis           | Brownie sabor Caramelo |     2408 |\n",
       "|  4 | cum            | Rosca sabor Chocolate  |     6486 |\n",
       "|  5 | quod           | Torta sabor Nuez       |     3497 |\n",
       "|  6 | sunt           | Torta sabor Frutilla   |     1969 |\n",
       "|  7 | repellat       | Brownie sabor Caramelo |     9994 |\n",
       "|  8 | aut            | Torta sabor Vainilla   |     6000 |\n",
       "|  9 | repellendus    | Dona sabor Vainilla    |     6781 |\n",
       "| 10 | sequi          | Queque sabor Vainilla  |     7182 |\n",
       "| 11 | reiciendis     | Torta sabor Nuez       |     9697 |\n",
       "| 12 | ea             | Dona sabor Chocolate   |     2584 |\n",
       "| 13 | necessitatibus | Dona sabor Nuez        |     1010 |\n",
       "| 14 | voluptatem     | Dona sabor Vainilla    |     7872 |\n",
       "| 15 | laudantium     | Brownie sabor Frutilla |     5957 |\n",
       "| 16 | aspernatur     | Rosca sabor Frutilla   |     9171 |\n",
       "| 17 | perferendis    | Brownie sabor Nuez     |     4863 |\n",
       "| 18 | suscipit       | Rosca sabor Caramelo   |     7547 |\n",
       "| 19 | pariatur       | Torta sabor Caramelo   |     4234 |"
      ],
      "text/plain": [
       "<IPython.core.display.Markdown object>"
      ]
     },
     "metadata": {},
     "output_type": "display_data"
    }
   ],
   "source": [
    "# Listas de tipos de productos y sabores\n",
    "tipos_productos = ['Torta', 'Queque', 'Brownie', 'Rosca', 'Dona']\n",
    "sabores = ['Chocolate', 'Frutilla', 'Vainilla', 'Caramelo', 'Nuez']\n",
    "\n",
    "\n",
    "def generar_producto():\n",
    "  nombre_producto = fake.unique.word()\n",
    "  precio = fake.random_int(min=1000, max=10000)\n",
    "  tipo_producto = random.choice(tipos_productos)\n",
    "  sabor = random.choice(sabores)\n",
    "  descripcion = f\"{tipo_producto} sabor {sabor}\"\n",
    "\n",
    "  return {\"Nombre\": nombre_producto, \"Descripcion\": descripcion,\"Precio\": precio}\n",
    "\n",
    "num_productos = 20\n",
    "\n",
    "producto = [generar_producto() for _ in range (num_productos)]\n",
    "\n",
    "df = pd.DataFrame(producto)\n",
    "\n",
    "display(Markdown(df.to_markdown()))"
   ]
  }
 ],
 "metadata": {
  "kernelspec": {
   "display_name": "genDB",
   "language": "python",
   "name": "python3"
  },
  "language_info": {
   "codemirror_mode": {
    "name": "ipython",
    "version": 3
   },
   "file_extension": ".py",
   "mimetype": "text/x-python",
   "name": "python",
   "nbconvert_exporter": "python",
   "pygments_lexer": "ipython3",
   "version": "3.11.5"
  }
 },
 "nbformat": 4,
 "nbformat_minor": 2
}
