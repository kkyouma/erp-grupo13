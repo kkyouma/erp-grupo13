{
 "cells": [
  {
   "cell_type": "markdown",
   "metadata": {},
   "source": [
    "Librerias necesarias"
   ]
  },
  {
   "cell_type": "code",
   "execution_count": 26,
   "metadata": {},
   "outputs": [],
   "source": [
    "import pandas as pd\n",
    "import os \n",
    "import random\n",
    "import uuid\n",
    "import string\n",
    "from faker import Faker\n",
    "from datetime import datetime, timedelta\n",
    "from IPython.display import display, Markdown # Libreria unicamente para visualizar datos markdown en jupyter"
   ]
  },
  {
   "cell_type": "markdown",
   "metadata": {},
   "source": [
    "Es necesario definir donde se almacenaran las bases de datos generadas para mantener un orden"
   ]
  },
  {
   "cell_type": "code",
   "execution_count": 27,
   "metadata": {},
   "outputs": [],
   "source": [
    "# Carpeta para almacenar las bases de datos generadas\n",
    "carpeta_database = 'database'\n",
    "\n",
    "# Crear una carpeta si esta no existe\n",
    "if not os.path.exists(carpeta_database):\n",
    "  os.makedirs(carpeta_database)\n",
    "\n",
    "# Path para guardar el archivo\n",
    "path_info_clientes = os.path.join(carpeta_database, 'info_clientes.xlsx')\n",
    "path_inventario = os.path.join(carpeta_database, 'inventario.xlsx')\n",
    "path_demanda = os.path.join(carpeta_database, 'demanda.xlsx')\n",
    "path_proveedores = os.path.join(carpeta_database, 'proveedores.xlsx')"
   ]
  },
  {
   "cell_type": "markdown",
   "metadata": {},
   "source": [
    "# Generacion de base de datos para clientes\n",
    "\n"
   ]
  },
  {
   "cell_type": "code",
   "execution_count": 28,
   "metadata": {},
   "outputs": [],
   "source": [
    "def generar_rut():\n",
    "    # Genera un número aleatorio de 8 dígitos para el cuerpo del RUT \n",
    "    cuerpo_rut = str(random.randint(10000000, 20000000))\n",
    "\n",
    "    # Calcula el dígito verificador utilizando el algoritmo de Módulo 11\n",
    "    suma = sum(int(cuerpo_rut[i]) * (i % 6 + 2) for i in range(7))\n",
    "    digito_verificador = 11 - (suma % 11)\n",
    "    if digito_verificador == 11:\n",
    "        digito_verificador = 0\n",
    "    elif digito_verificador == 10:\n",
    "        digito_verificador = 'K'\n",
    "\n",
    "    # Combina el cuerpo y el dígito verificador para formar el RUT completo\n",
    "    rut_completo = f\"{cuerpo_rut}-{digito_verificador}\"\n",
    "\n",
    "    return rut_completo"
   ]
  },
  {
   "cell_type": "code",
   "execution_count": 29,
   "metadata": {},
   "outputs": [
    {
     "data": {
      "text/markdown": [
       "|    | Nombre                           | Rut        | Ciudad         | Correo                      | Telefono        |\n",
       "|---:|:---------------------------------|:-----------|:---------------|:----------------------------|:----------------|\n",
       "|  0 | Fernanda Camila González Briones | 13747053-K | Camiña         | victormunoz@example.net     | +56 58 272 1249 |\n",
       "|  1 | Catalina Juana Rivera Núñez      | 11553274-3 | Algarrobo      | vcastro@example.org         | +56 51 320 9453 |\n",
       "|  2 | Ignacio Tomás Díaz Ramírez       | 10939483-3 | Pudahuel       | gaston90@example.net        | +56 2 3609 5517 |\n",
       "|  3 | Jacqueline Calderón González     | 18798542-8 | Río Bueno      | yvillar@example.com         | +56 73 218 5560 |\n",
       "|  4 | Rocío Norma Cerda Figueroa       | 10326909-9 | Río Verde      | tobarhaydee@example.net     | +56 600 402 396 |\n",
       "|  5 | Leonardo Luis González Bello     | 14768257-K | Nueva Imperial | mguzman@example.org         | +56 34 364 2579 |\n",
       "|  6 | Ivonne Medina Hernández          | 12123552-3 | Putre          | antoniomoran@example.net    | +56 9 5475 2398 |\n",
       "|  7 | Paulina Mireya Carrasco González | 17881920-8 | Coihaique      | barahonablanca@example.net  | +56 9 9408 3641 |\n",
       "|  8 | Juan Sergio Méndez Henríquez     | 13053907-4 | Hualqui        | qgarcia@example.com         | +56 2 3902 9046 |\n",
       "|  9 | Luis Lucas Mancilla Olguín       | 18812705-8 | Punta Arenas   | santiagovasquez@example.org | +56 61 237 0328 |"
      ],
      "text/plain": [
       "<IPython.core.display.Markdown object>"
      ]
     },
     "metadata": {},
     "output_type": "display_data"
    }
   ],
   "source": [
    "fake = Faker('es_CL')\n",
    "\n",
    "def generar_cliente():\n",
    "  rut = generar_rut()\n",
    "  nombre = fake.name()\n",
    "  correo = fake.email()\n",
    "  telefono = fake.phone_number()\n",
    "  ciudad = fake.city()\n",
    "\n",
    "  return {\"Nombre\": nombre, \"Rut\": rut, \"Ciudad\": ciudad, \"Correo\": correo, \"Telefono\": telefono}\n",
    "\n",
    "cantidad_clientes = 10\n",
    "\n",
    "cliente = [generar_cliente() for _ in range (cantidad_clientes)]\n",
    "\n",
    "df = pd.DataFrame(cliente)\n",
    "\n",
    "# Guardar el archivo\n",
    "df.to_excel(path_info_clientes, index=False)\n",
    "\n",
    "# Visualizar en markdown\n",
    "display(Markdown(df.to_markdown()))"
   ]
  },
  {
   "cell_type": "markdown",
   "metadata": {},
   "source": [
    "# Generacion base de datos para proveedores"
   ]
  },
  {
   "cell_type": "code",
   "execution_count": 30,
   "metadata": {},
   "outputs": [
    {
     "data": {
      "text/markdown": [
       "|    | ID Proveedor   | Proveedor                            | Ciudad                        |   Compra | Telefono              |\n",
       "|---:|:---------------|:-------------------------------------|:------------------------------|---------:|:----------------------|\n",
       "|  0 | P-0001         | Viola SPA                            | Malavicina                    |       85 | +39 361681811         |\n",
       "|  1 | P-0002         | Clark-Duffy                          | Port Jennifer                 |       27 | 065.725.5217x7255     |\n",
       "|  2 | P-0003         | Gonçalves Ltda.                      | Sales                         |       25 | +55 (041) 1372 8405   |\n",
       "|  3 | P-0004         | Satta-Fornaciari s.r.l.              | Cunevo                        |       16 | 0721041974            |\n",
       "|  4 | P-0005         | Giunti-Spinelli s.r.l.               | Masanti Di Sotto              |       11 | 094274097             |\n",
       "|  5 | P-0006         | Mastandrea e figli                   | Trovo                         |       37 | 0771593212            |\n",
       "|  6 | P-0007         | Costela Silva - ME                   | da Rosa                       |       17 | 71 8419 9250          |\n",
       "|  7 | P-0008         | Liverotti-Novaro s.r.l.              | Casal Borsetti                |       64 | +39 035278848         |\n",
       "|  8 | P-0009         | Paoletti-Foa e figli                 | Dogato                        |       74 | 07111785318           |\n",
       "|  9 | P-0010         | Correia                              | Pinto de Cardoso              |       53 | 61 8945-5678          |\n",
       "| 10 | P-0011         | da Mota                              | Gonçalves                     |       24 | +55 (061) 0062 8905   |\n",
       "| 11 | P-0012         | Falcone, Baggio e Travia Group       | Pian Dei Ratti                |       86 | 05237552124           |\n",
       "| 12 | P-0013         | Daniel-Martin                        | Hillfurt                      |       83 | 382.076.7091x850      |\n",
       "| 13 | P-0014         | Vianello-Emanuelli SPA               | Bellocchi                     |       45 | 012377024             |\n",
       "| 14 | P-0015         | Zanichelli-Nicoletti Group           | Manesseno                     |       14 | +39 01248175634       |\n",
       "| 15 | P-0016         | Sales                                | Costela de Goiás              |       78 | 81 7639-8768          |\n",
       "| 16 | P-0017         | Porto Barbosa - ME                   | Gonçalves Paulista            |       85 | +55 (084) 2792 1169   |\n",
       "| 17 | P-0018         | Barros                               | Lopes da Serra                |       14 | (041) 7300 6936       |\n",
       "| 18 | P-0019         | Johnson, Clarke and Duran            | South Shane                   |       30 | +1-581-189-8292x168   |\n",
       "| 19 | P-0020         | Giunti, Zaccagnini e Ariasso s.r.l.  | Scalo Di Baragiano            |       12 | +39 36155214722       |\n",
       "| 20 | P-0021         | Gibson Group                         | Kaylaborough                  |       74 | 991.647.7999x596      |\n",
       "| 21 | P-0022         | Serao, Collina e Spinelli e figli    | Sotto Il Monte Giovanni Xxiii |       38 | +39 0403347345        |\n",
       "| 22 | P-0023         | Wolf-King                            | Robinsonchester               |       60 | 323.063.7012x94911    |\n",
       "| 23 | P-0024         | Freitas - ME                         | Araújo                        |       33 | (051) 3792 6557       |\n",
       "| 24 | P-0025         | Favata s.r.l.                        | Gabbro                        |       68 | +39 3512158065        |\n",
       "| 25 | P-0026         | Brooks, Carlson and Mckenzie         | Lake Jessicafurt              |       14 | +1-680-559-0888x54567 |\n",
       "| 26 | P-0027         | Roberts, Garcia and Foley            | East Bradleyside              |       84 | (992)595-9358x72155   |\n",
       "| 27 | P-0028         | Mendes - EI                          | Viana das Flores              |       25 | +55 21 7813-2838      |\n",
       "| 28 | P-0029         | Panatta, Nicolini e Lippomano s.r.l. | Auronzo Di Cadore             |       23 | 32310852405           |\n",
       "| 29 | P-0030         | da Cruz                              | Aragão do Campo               |       66 | (011) 0092-3978       |\n",
       "| 30 | P-0031         | da Mota                              | Peixoto                       |       15 | +55 61 4043-3397      |\n",
       "| 31 | P-0032         | Rocha S.A.                           | Barros de Minas               |       99 | 84 0608 1986          |\n",
       "| 32 | P-0033         | Avila-Berry                          | Dawsonport                    |       87 | 322.044.1291          |\n",
       "| 33 | P-0034         | Morales-Williams                     | South Maureenburgh            |       97 | 001-002-130-9536      |\n",
       "| 34 | P-0035         | Smith-Maxwell                        | West Amber                    |       72 | +1-852-732-2915x5262  |\n",
       "| 35 | P-0036         | Kim, Sutton and Smith                | North Ernesttown              |       91 | 353-783-6384x389      |\n",
       "| 36 | P-0037         | Mennea e figli                       | Vicomoscano                   |       29 | 0774417266            |\n",
       "| 37 | P-0038         | Peixoto                              | Alves                         |       13 | 0500-211-7289         |\n",
       "| 38 | P-0039         | Guerra Ltd                           | Jeremiahville                 |       37 | 001-368-062-9511x4614 |\n",
       "| 39 | P-0040         | Baroffio, Ligorio e Viola s.r.l.     | Gubbio                        |       82 | 349565123             |\n",
       "| 40 | P-0041         | Gigli e figli                        | Pozzuoli                      |       64 | 04382773741           |\n",
       "| 41 | P-0042         | Johnson Inc                          | North Daniel                  |       26 | 200.904.2455x609      |\n",
       "| 42 | P-0043         | Campos Ferreira S.A.                 | da Cunha de Mendes            |       42 | +55 61 8753-6201      |\n",
       "| 43 | P-0044         | Liverotti s.r.l.                     | Sant'Ambrogio Di Torino       |       59 | 3711226699            |\n",
       "| 44 | P-0045         | Reed and Sons                        | Port Charlesbury              |       14 | +1-205-312-1404       |\n",
       "| 45 | P-0046         | Taliani-Treccani s.r.l.              | Montelicciano                 |       52 | 0350964219            |\n",
       "| 46 | P-0047         | Vercelloni-Seddio Group              | Torrebelvicino                |       89 | +39 3499521744        |\n",
       "| 47 | P-0048         | Campise Group                        | Cimolais                      |       77 | +39 34294904986       |\n",
       "| 48 | P-0049         | Lopez Group                          | Port Leonard                  |       18 | 158-680-3369x46003    |\n",
       "| 49 | P-0050         | Lynch-Carter                         | Timothyport                   |       54 | 575-534-0478          |"
      ],
      "text/plain": [
       "<IPython.core.display.Markdown object>"
      ]
     },
     "metadata": {},
     "output_type": "display_data"
    }
   ],
   "source": [
    "fake_usa = Faker('en_US')\n",
    "fake_brasil = Faker('pt_BR')\n",
    "fake_italia = Faker('it_IT')\n",
    "\n",
    "datos_falsos = [fake_usa, fake_brasil, fake_italia]\n",
    "\n",
    "i = 0\n",
    "def genenerar_proveedor():\n",
    "  global i\n",
    "  i = i + 1\n",
    "  fake_extranjero = random.choice(datos_falsos)\n",
    "\n",
    "  id_proveedor = f\"P-{str(i).zfill(4)}\"\n",
    "  telefono_proveedor = fake_extranjero.phone_number()\n",
    "  ciudad_proveedor = fake_extranjero.city()\n",
    "  compania_proveedor = fake_extranjero.company()\n",
    "  compra_proveedor = random.randint(10, 100)\n",
    "\n",
    "  return {\"ID Proveedor\": id_proveedor, \"Proveedor\": compania_proveedor, \"Ciudad\": ciudad_proveedor, \"Compra\": compra_proveedor, \"Telefono\": telefono_proveedor}\n",
    "\n",
    "\n",
    "num_proveedores = 50\n",
    "\n",
    "producto = [genenerar_proveedor() for _ in range (num_proveedores)]\n",
    "\n",
    "df = pd.DataFrame(producto)\n",
    "\n",
    "#Guardar el archivo\n",
    "df.to_excel(path_proveedores, index=False)\n",
    "\n",
    "# Visualizar en markdown\n",
    "display(Markdown(df.to_markdown()))\n"
   ]
  },
  {
   "cell_type": "markdown",
   "metadata": {},
   "source": [
    "# Generacion de base de datos para inventario"
   ]
  },
  {
   "cell_type": "markdown",
   "metadata": {},
   "source": [
    "## Variables para los productos"
   ]
  },
  {
   "cell_type": "code",
   "execution_count": 31,
   "metadata": {},
   "outputs": [],
   "source": [
    "# Listas de tipos de productos y sabores\n",
    "tipo_prendas = ['Polera', 'Polerón', 'Camisa', 'Pantalón', 'Short', 'Vestido', 'Falda', 'Blusa', 'Camiseta', 'Jean', 'Calza', 'Legging', 'Abrigo', 'Chaleco', 'Traje de Baño', 'Pijama']\n",
    "\n",
    "tallas = ['XS', 'S', 'M', 'L', 'XL', 'XXL', 'XXXL']\n",
    "\n",
    "colores = [\n",
    "    'rojo', 'azul', 'amarillo',\n",
    "    'verde', 'naranja', 'violeta',\n",
    "    'rosa', 'gris', 'marrón',\n",
    "    'blanco', 'negro', 'celeste'\n",
    "]\n",
    "\n",
    "tipo_materiales = [\n",
    "  'algodon', 'poliester', 'polar', \n",
    "  'mezclilla', 'viscosa'\n",
    "]\n",
    "\n",
    "marcas = ['Zara', 'H&M', 'Nike', 'Adidas', 'Gucci', 'Levi\\'s', 'Forever 21', 'Puma', 'Calvin Klein', 'Tommy Hilfiger']\n",
    "\n",
    "estampados = ['sin estampado', 'con estampado']\n",
    "\n",
    "\n"
   ]
  },
  {
   "cell_type": "markdown",
   "metadata": {},
   "source": [
    "## Genera un ID unico para cada producto segun su tipo"
   ]
  },
  {
   "cell_type": "code",
   "execution_count": 32,
   "metadata": {},
   "outputs": [],
   "source": [
    "\n",
    "conteo_por_prefijo = {}\n",
    "def generar_codigo_producto(tipos_producto):\n",
    "    # Obtén los tres primeros caracteres de la descripción\n",
    "    prefijo = tipos_producto[:3].upper()\n",
    "\n",
    "    if prefijo not in conteo_por_prefijo:\n",
    "        conteo_por_prefijo[prefijo] = 1\n",
    "    else:\n",
    "        conteo_por_prefijo[prefijo] += 1\n",
    "\n",
    "    codigo_str = str(conteo_por_prefijo[prefijo]).zfill(4)\n",
    "\n",
    "    return f\"{prefijo}{codigo_str}\"\n"
   ]
  },
  {
   "cell_type": "code",
   "execution_count": 35,
   "metadata": {},
   "outputs": [],
   "source": [
    "df_proveedores = pd.read_excel(path_proveedores)"
   ]
  },
  {
   "cell_type": "code",
   "execution_count": 39,
   "metadata": {},
   "outputs": [
    {
     "data": {
      "text/markdown": [
       "|    | ID Producto   | Tipo de producto   | Descripcion                                                      | Proveedor                           |   Precio de venta |   Coste de compra |\n",
       "|---:|:--------------|:-------------------|:-----------------------------------------------------------------|:------------------------------------|------------------:|------------------:|\n",
       "|  0 | TRA0004       | Traje de Baño      | Traje de Baño color rosa talla XL marca Tommy Hilfiger de polar  | Giunti, Zaccagnini e Ariasso s.r.l. |              9023 |          5317.83  |\n",
       "|  1 | VES0004       | Vestido            | Vestido color naranja talla M marca H&M de viscosa               | Zanichelli-Nicoletti Group          |              3082 |          1150.36  |\n",
       "|  2 | ABR0003       | Abrigo             | Abrigo color blanco talla M marca Calvin Klein de algodon        | Porto Barbosa - ME                  |              9749 |          1807.01  |\n",
       "|  3 | TRA0005       | Traje de Baño      | Traje de Baño color amarillo talla XXL marca Forever 21 de polar | Vercelloni-Seddio Group             |              1101 |           650.977 |\n",
       "|  4 | POL0006       | Polera             | Polera color amarillo talla XS marca Tommy Hilfiger de mezclilla | Lopez Group                         |              2355 |           991.179 |\n",
       "|  5 | POL0007       | Polerón            | Polerón color negro talla L marca H&M de viscosa                 | Gibson Group                        |              1197 |           675.548 |\n",
       "|  6 | CAL0001       | Calza              | Calza color rojo talla XXL marca Puma de mezclilla               | Porto Barbosa - ME                  |              4595 |          1966.33  |\n",
       "|  7 | FAL0003       | Falda              | Falda color gris talla XS marca Forever 21 de viscosa            | Campise Group                       |              9535 |          5107.66  |\n",
       "|  8 | POL0008       | Polera             | Polera color celeste talla M marca Forever 21 de algodon         | Campos Ferreira S.A.                |              2853 |          1381.36  |\n",
       "|  9 | JEA0001       | Jean               | Jean color naranja talla L marca H&M de mezclilla                | Guerra Ltd                          |              4349 |           963.676 |"
      ],
      "text/plain": [
       "<IPython.core.display.Markdown object>"
      ]
     },
     "metadata": {},
     "output_type": "display_data"
    }
   ],
   "source": [
    "\n",
    "def generar_descripcion():\n",
    "  talla = random.choice(tallas)\n",
    "  color = random.choice(colores)\n",
    "  tipo_material = random.choice(tipo_materiales)\n",
    "  marca = random.choice(marcas)\n",
    "\n",
    "  return talla, color, tipo_material, marca\n",
    "\n",
    "\n",
    "def generar_producto():\n",
    "\n",
    "  proveedores = df_proveedores.sample(1).iloc[0]\n",
    "  nombre_proveedor = proveedores['Proveedor']\n",
    "\n",
    "  tipo_prenda = random.choice(tipo_prendas)\n",
    "  talla, color, tipo_material, marca = generar_descripcion()\n",
    "  descripcion = f\"{tipo_prenda} color {color} talla {talla} marca {marca} de {tipo_material}\"\n",
    "  id_producto = generar_codigo_producto(tipo_prenda)\n",
    "  precio_venta = fake.random_int(min=1000, max=10000)\n",
    "  coste_compra = precio_venta - (precio_venta * random.uniform(0.4, 0.9))\n",
    "  stock = random.randint(10, 100)\n",
    "\n",
    "  return {\"ID Producto\": id_producto, \n",
    "          \"Tipo de producto\": tipo_prenda,\n",
    "          \"Descripcion\": descripcion,\n",
    "          \"Proveedor\": nombre_proveedor,\n",
    "          \"Stock\": stock,\n",
    "          \"Stock de seguridad\": stock * 0.2,\n",
    "          \"Precio de venta\": precio_venta,\n",
    "          \"Coste de compra\": coste_compra}\n",
    "\n",
    "num_productos = 10\n",
    "\n",
    "producto = [generar_producto() for _ in range (num_productos)]\n",
    "\n",
    "df = pd.DataFrame(producto)\n",
    "\n",
    "#Guardar el archivo\n",
    "df.to_excel(path_inventario, index=False)\n",
    "\n",
    "# Visualizar en markdown\n",
    "display(Markdown(df.to_markdown()))"
   ]
  },
  {
   "cell_type": "markdown",
   "metadata": {},
   "source": [
    "# Generacion de base de datos para ventas"
   ]
  },
  {
   "cell_type": "markdown",
   "metadata": {},
   "source": [
    "## Leer base de datos de clientes\n",
    "Esto es un paso necesario para porder asociar los clientes ya generados y de los cuales tenemos informacion, con los productos en inventario."
   ]
  },
  {
   "cell_type": "code",
   "execution_count": null,
   "metadata": {},
   "outputs": [],
   "source": [
    "df_clientes = pd.read_excel(path_info_clientes)\n",
    "df_productos = pd.read_excel(path_inventario)"
   ]
  },
  {
   "cell_type": "code",
   "execution_count": null,
   "metadata": {},
   "outputs": [],
   "source": [
    "# Establecer un rango realista para las fechas de compras\n",
    "fecha_actual = datetime.now()\n",
    "\n",
    "inicio_rango = fecha_actual - timedelta (days = 180)"
   ]
  },
  {
   "cell_type": "markdown",
   "metadata": {},
   "source": [
    "Se genera una tabla que contenga una fecha realista para la demanda del producto, un nombre de cliente extraido de la base de datos y un tipo de producto que desee. Cabe destacar que de esta forma y usando la funcion 'random.choice' es que puede existir clientes que demanden mas de un tipo de producto, lo cual es completamente valido y cumple con una situacion realista. "
   ]
  },
  {
   "cell_type": "code",
   "execution_count": null,
   "metadata": {},
   "outputs": [
    {
     "data": {
      "text/markdown": [
       "|    | ID Compra   | Fecha de compra   | Nombre                          | Rut        | Producto demandado   | ID Producto   |\n",
       "|---:|:------------|:------------------|:--------------------------------|:-----------|:---------------------|:--------------|\n",
       "|  0 | b4f4db      | 2023-10-14        | Ana Garrido                     | 16626111-0 | Camiseta             | CAM0001       |\n",
       "|  1 | b4b4af      | 2023-08-25        | Patricio Mauricio Ramos Díaz    | 17896332-2 | Polera               | POL0001       |\n",
       "|  2 | 35c77f      | 2023-06-16        | Harold Pérez                    | 11448889-4 | Short                | SHO0001       |\n",
       "|  3 | 910e0c      | 2023-10-06        | José Rodolfo Rodríguez Medina   | 11380773-1 | Pijama               | PIJ0001       |\n",
       "|  4 | a5e408      | 2023-06-10        | Ana Garrido                     | 16626111-0 | Legging              | LEG0001       |\n",
       "|  5 | 072314      | 2023-11-13        | Elena Madariaga Echeverría      | 18591985-0 | Falda                | FAL0001       |\n",
       "|  6 | bb0f58      | 2023-12-03        | José Rodolfo Rodríguez Medina   | 11380773-1 | Pijama               | PIJ0001       |\n",
       "|  7 | 389004      | 2023-11-06        | María Maritza Hidalgo Inostroza | 11345193-7 | Polerón              | POL0002       |\n",
       "|  8 | a19244      | 2023-08-26        | Katerine Javiera Ormeño Vásquez | 17637379-4 | Polera               | POL0001       |\n",
       "|  9 | c52fa1      | 2023-09-24        | Elba Constanza Zepeda Ramírez   | 16759616-5 | Pijama               | PIJ0001       |"
      ],
      "text/plain": [
       "<IPython.core.display.Markdown object>"
      ]
     },
     "metadata": {},
     "output_type": "display_data"
    }
   ],
   "source": [
    "def generar_demanda():\n",
    "  fecha_compra = fake.date_between_dates(date_start=inicio_rango, date_end=fecha_actual)\n",
    "  \n",
    "  # Selecciona una fila aleatoria del DataFrame de productos\n",
    "  producto = df_productos.sample(1).iloc[0]\n",
    "  tipo_producto = producto['Tipo de producto']\n",
    "  codigo_producto = producto['ID Producto']\n",
    "\n",
    "  cliente = df_clientes.sample(1).iloc[0]\n",
    "  nombre_cliente = cliente['Nombre']\n",
    "  rut = cliente['Rut']\n",
    "  \n",
    "  id_compra = uuid.uuid4().hex[:6]\n",
    "\n",
    "  return {\"ID Compra\": id_compra, \"Fecha de compra\": fecha_compra, \"Nombre\": nombre_cliente,\"Rut\": rut, \"Producto demandado\": tipo_producto, \"ID Producto\": codigo_producto}\n",
    "\n",
    "num_demanda_clientes = 10\n",
    "\n",
    "demanda = [generar_demanda() for _ in range (num_demanda_clientes)]\n",
    "\n",
    "df = pd.DataFrame(demanda)\n",
    "\n",
    "# Guardar el archivo\n",
    "df.to_excel(path_demanda, index=False)\n",
    "\n",
    "# Visualizar en markdown\n",
    "display(Markdown(df.to_markdown()))"
   ]
  }
 ],
 "metadata": {
  "kernelspec": {
   "display_name": "genDB",
   "language": "python",
   "name": "python3"
  },
  "language_info": {
   "codemirror_mode": {
    "name": "ipython",
    "version": 3
   },
   "file_extension": ".py",
   "mimetype": "text/x-python",
   "name": "python",
   "nbconvert_exporter": "python",
   "pygments_lexer": "ipython3",
   "version": "3.11.5"
  }
 },
 "nbformat": 4,
 "nbformat_minor": 2
}
