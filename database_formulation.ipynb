{
 "cells": [
  {
   "cell_type": "markdown",
   "metadata": {},
   "source": [
    "Librerias necesarias"
   ]
  },
  {
   "cell_type": "code",
   "execution_count": 43,
   "metadata": {},
   "outputs": [],
   "source": [
    "import pandas as pd\n",
    "import os \n",
    "import random\n",
    "import uuid\n",
    "import string\n",
    "from faker import Faker\n",
    "from datetime import datetime, timedelta\n",
    "from IPython.display import display, Markdown # Libreria unicamente para visualizar datos markdown en jupyter"
   ]
  },
  {
   "cell_type": "markdown",
   "metadata": {},
   "source": [
    "Es necesario definir donde se almacenaran las bases de datos generadas para mantener un orden"
   ]
  },
  {
   "cell_type": "code",
   "execution_count": 44,
   "metadata": {},
   "outputs": [],
   "source": [
    "# Carpeta para almacenar las bases de datos generadas\n",
    "carpeta_database = 'database'\n",
    "\n",
    "# Crear una carpeta si esta no existe\n",
    "if not os.path.exists(carpeta_database):\n",
    "  os.makedirs(carpeta_database)\n",
    "\n",
    "# Path para guardar el archivo\n",
    "path_info_clientes = os.path.join(carpeta_database, 'info_clientes.xlsx')\n",
    "path_inventario = os.path.join(carpeta_database, 'inventario.xlsx')\n",
    "path_ventas = os.path.join(carpeta_database, 'ventas.xlsx')\n",
    "path_proveedores = os.path.join(carpeta_database, 'proveedores.xlsx')"
   ]
  },
  {
   "cell_type": "markdown",
   "metadata": {},
   "source": [
    "# Generacion de base de datos para clientes\n",
    "\n"
   ]
  },
  {
   "cell_type": "code",
   "execution_count": 45,
   "metadata": {},
   "outputs": [],
   "source": [
    "def generar_rut():\n",
    "    # Genera un número aleatorio de 8 dígitos para el cuerpo del RUT \n",
    "    cuerpo_rut = str(random.randint(10000000, 20000000))\n",
    "\n",
    "    # Calcula el dígito verificador utilizando el algoritmo de Módulo 11\n",
    "    suma = sum(int(cuerpo_rut[i]) * (i % 6 + 2) for i in range(7))\n",
    "    digito_verificador = 11 - (suma % 11)\n",
    "    if digito_verificador == 11:\n",
    "        digito_verificador = 0\n",
    "    elif digito_verificador == 10:\n",
    "        digito_verificador = 'K'\n",
    "\n",
    "    # Combina el cuerpo y el dígito verificador para formar el RUT completo\n",
    "    rut_completo = f\"{cuerpo_rut}-{digito_verificador}\"\n",
    "\n",
    "    return rut_completo"
   ]
  },
  {
   "cell_type": "code",
   "execution_count": 46,
   "metadata": {},
   "outputs": [
    {
     "data": {
      "text/markdown": [
       "|    | Nombre                           | Rut        | Ciudad            | Correo                      | Telefono        |\n",
       "|---:|:---------------------------------|:-----------|:------------------|:----------------------------|:----------------|\n",
       "|  0 | Angélica Tatiana Castro Barría   | 14907805-6 | San José de Maipo | munozsolange@example.net    | +56 2 3131 5677 |\n",
       "|  1 | Carolina Rosa Moraga Cifuentes   | 17199668-7 | Portezuelo        | qaguilar@example.net        | +56 2 2871 9578 |\n",
       "|  2 | Marlene Vivian Vásquez Oyarce    | 17378570-9 | San Fernando      | hespinoza@example.net       | +56 9 5685 0268 |\n",
       "|  3 | Paulina Laura Acuña Torres       | 11551957-3 | Chillán Viejo     | uhenriquez@example.org      | +56 71 373 2238 |\n",
       "|  4 | Javiera Beatriz López Venegas    | 11519897-7 | El Quisco         | eliana37@example.net        | +56 2 3634 6976 |\n",
       "|  5 | Erick Carlos González Acosta     | 19716751-8 | Las Condes        | mardonesjoseph@example.com  | +56 2 2437 5392 |\n",
       "|  6 | Daniela Juana Moraga Jaramillo   | 11503648-6 | Litueche          | alonso19@example.net        | +56 57 339 2479 |\n",
       "|  7 | Ivonne Antonia Fernández Pereira | 19088726-6 | Olivar            | mabeldiaz@example.net       | +56 9 5546 8443 |\n",
       "|  8 | José Valdebenito Calderón        | 15355761-9 | Sagrada Familia   | vgonzalez@example.net       | +56 2 2465 3581 |\n",
       "|  9 | Adriana Tamara Rojas Muñoz       | 14969368-9 | Tortel            | patriciobarraza@example.com | +56 600 365 604 |"
      ],
      "text/plain": [
       "<IPython.core.display.Markdown object>"
      ]
     },
     "metadata": {},
     "output_type": "display_data"
    }
   ],
   "source": [
    "fake = Faker('es_CL')\n",
    "\n",
    "def generar_cliente():\n",
    "  rut = generar_rut()\n",
    "  nombre = fake.name()\n",
    "  correo = fake.email()\n",
    "  telefono = fake.phone_number()\n",
    "  ciudad = fake.city()\n",
    "\n",
    "  return {\"Nombre\": nombre, \"Rut\": rut, \"Ciudad\": ciudad, \"Correo\": correo, \"Telefono\": telefono}\n",
    "\n",
    "cantidad_clientes = 10\n",
    "\n",
    "cliente = [generar_cliente() for _ in range (cantidad_clientes)]\n",
    "\n",
    "df = pd.DataFrame(cliente)\n",
    "\n",
    "# Guardar el archivo\n",
    "df.to_excel(path_info_clientes, index=False)\n",
    "\n",
    "# Visualizar en markdown\n",
    "display(Markdown(df.to_markdown()))"
   ]
  },
  {
   "cell_type": "markdown",
   "metadata": {},
   "source": [
    "# Generacion base de datos para proveedores"
   ]
  },
  {
   "cell_type": "code",
   "execution_count": 47,
   "metadata": {},
   "outputs": [
    {
     "data": {
      "text/markdown": [
       "|    | ID Proveedor   | Proveedor                                | Ciudad               |   Compra | Telefono              |\n",
       "|---:|:---------------|:-----------------------------------------|:---------------------|---------:|:----------------------|\n",
       "|  0 | P-0001         | Kline, Morris and Gillespie              | Antoniostad          |       46 | 294-526-1553x2596     |\n",
       "|  1 | P-0002         | Vieira                                   | Pires do Norte       |       18 | (084) 3711-2534       |\n",
       "|  2 | P-0003         | Quasimodo, Pace e Manunta s.r.l.         | Feisoglio            |       83 | 3341537996            |\n",
       "|  3 | P-0004         | Evans, Park and Pruitt                   | Mclaughlinshire      |       59 | (341)405-0415x42881   |\n",
       "|  4 | P-0005         | Ramos                                    | Souza Grande         |       87 | 0500 388 8389         |\n",
       "|  5 | P-0006         | Gonçalves Costa S/A                      | Fogaça das Flores    |       16 | 0900 997 9552         |\n",
       "|  6 | P-0007         | da Conceição                             | Castro de Minas      |       30 | +55 (084) 0235-7598   |\n",
       "|  7 | P-0008         | Mondadori, Bertoni e Martinelli s.r.l.   | Palmadula            |       34 | +39 3317346354        |\n",
       "|  8 | P-0009         | Gomes Moura Ltda.                        | da Conceição da Mata |       80 | 0800 719 8858         |\n",
       "|  9 | P-0010         | Jesus Cavalcanti S/A                     | Pires                |       25 | +55 84 3230 5933      |\n",
       "| 10 | P-0011         | Palladio, Ginese e Finzi s.r.l.          | Montottone           |       50 | +39 3336326533        |\n",
       "| 11 | P-0012         | Antonucci-Trussardi SPA                  | Bondeno              |       91 | +39 09336026418       |\n",
       "| 12 | P-0013         | Pires - EI                               | Cardoso              |       46 | +55 31 1659-3032      |\n",
       "| 13 | P-0014         | Moreira                                  | Castro da Praia      |       58 | +55 (061) 8468-6998   |\n",
       "| 14 | P-0015         | Oliveira                                 | Freitas              |       67 | (051) 4769 6224       |\n",
       "| 15 | P-0016         | Raimondi, Pistoletto e Armellini e figli | Corio                |       38 | 3610047824            |\n",
       "| 16 | P-0017         | Ribeiro                                  | Oliveira             |       24 | +55 41 8890 6103      |\n",
       "| 17 | P-0018         | da Mota                                  | Jesus Paulista       |       43 | +55 (071) 7962 1902   |\n",
       "| 18 | P-0019         | Aragão                                   | Nunes                |       71 | +55 51 0573 2811      |\n",
       "| 19 | P-0020         | Brown, James and Hart                    | West Kimberly        |       81 | +1-344-310-5607x42069 |\n",
       "| 20 | P-0021         | Thompson-Lopez                           | Liburgh              |       38 | 001-091-305-5868      |\n",
       "| 21 | P-0022         | Ribeiro Aragão S/A                       | Cavalcanti           |       83 | 0300 298 6226         |\n",
       "| 22 | P-0023         | Malipiero, Mantegazza e Cavanna e figli  | Borgo Quinzio        |       62 | +39 04340771395       |\n",
       "| 23 | P-0024         | da Rocha Fogaça e Filhos                 | da Paz Paulista      |       43 | (031) 7228 6140       |\n",
       "| 24 | P-0025         | Chittolini, Lercari e Antonioni Group    | Pezzana              |       82 | +39 082444816         |\n",
       "| 25 | P-0026         | Azevedo                                  | Ferreira da Prata    |       73 | 61 3561-7987          |\n",
       "| 26 | P-0027         | das Neves                                | Castro dos Dourados  |       59 | 0500 196 0578         |\n",
       "| 27 | P-0028         | Lopes e Filhos                           | Monteiro             |       41 | +55 (011) 2434 4420   |\n",
       "| 28 | P-0029         | Ribeiro - ME                             | da Mata              |       54 | (084) 3309-0306       |\n",
       "| 29 | P-0030         | da Cunha e Filhos                        | Moraes do Campo      |       97 | 11 6367-2065          |\n",
       "| 30 | P-0031         | Cunha                                    | Duarte               |       39 | +55 (041) 6470-2607   |\n",
       "| 31 | P-0032         | Araújo Aragão - EI                       | Correia              |       27 | +55 (051) 4841-6961   |\n",
       "| 32 | P-0033         | Vivaldi e figli                          | Cravanzana           |       24 | +39 05886343354       |\n",
       "| 33 | P-0034         | Poerio-Porcellato e figli                | Sernio               |       40 | 0549262790            |\n",
       "| 34 | P-0035         | Tyler-Perez                              | Port Scottfort       |       41 | 256.910.6731x257      |\n",
       "| 35 | P-0036         | Porter, Rivera and Hoffman               | Tonymouth            |       19 | 001-044-216-3185x1713 |\n",
       "| 36 | P-0037         | Antelami s.r.l.                          | Boccadiganda         |       69 | 092122691             |\n",
       "| 37 | P-0038         | Silva Carvalho - EI                      | Melo do Galho        |       66 | 0500-960-2152         |\n",
       "| 38 | P-0039         | Carli-Errani Group                       | Vianino              |       93 | +39 07913544589       |\n",
       "| 39 | P-0040         | Gordon-Phelps                            | Tonyaview            |       10 | 001-504-911-7598x7589 |\n",
       "| 40 | P-0041         | da Paz                                   | Rezende Verde        |       17 | +55 51 4963 3580      |\n",
       "| 41 | P-0042         | Pizzamano, Chiaramonte e Cesarotti Group | Noceto               |       70 | 3665644756            |\n",
       "| 42 | P-0043         | Brown-Spears                             | Lake Lisa            |       85 | 001-754-247-3581x6449 |\n",
       "| 43 | P-0044         | Miranda Group                            | Smithland            |       18 | 007.608.9654          |\n",
       "| 44 | P-0045         | Rezende                                  | Ramos                |       25 | (071) 1663-4331       |\n",
       "| 45 | P-0046         | Barton-Peterson                          | Marcfurt             |       46 | 663-028-6976x18290    |\n",
       "| 46 | P-0047         | Pereira                                  | da Rosa da Praia     |       83 | (041) 8103 2249       |\n",
       "| 47 | P-0048         | Nugnes, Bellò e Barsanti s.r.l.          | Fratta               |       29 | +39 0541340665        |\n",
       "| 48 | P-0049         | Williams, Herman and Anderson            | West Jason           |       82 | (020)067-8798         |\n",
       "| 49 | P-0050         | Freitas                                  | Nogueira Paulista    |       95 | (031) 3392 1699       |"
      ],
      "text/plain": [
       "<IPython.core.display.Markdown object>"
      ]
     },
     "metadata": {},
     "output_type": "display_data"
    }
   ],
   "source": [
    "fake_usa = Faker('en_US')\n",
    "fake_brasil = Faker('pt_BR')\n",
    "fake_italia = Faker('it_IT')\n",
    "\n",
    "datos_falsos = [fake_usa, fake_brasil, fake_italia]\n",
    "\n",
    "i = 0\n",
    "def genenerar_proveedor():\n",
    "  global i\n",
    "  i = i + 1\n",
    "  fake_extranjero = random.choice(datos_falsos)\n",
    "\n",
    "  id_proveedor = f\"P-{str(i).zfill(4)}\"\n",
    "  telefono_proveedor = fake_extranjero.phone_number()\n",
    "  ciudad_proveedor = fake_extranjero.city()\n",
    "  compania_proveedor = fake_extranjero.company()\n",
    "  compra_proveedor = random.randint(10, 100)\n",
    "\n",
    "  return {\"ID Proveedor\": id_proveedor, \"Proveedor\": compania_proveedor, \"Ciudad\": ciudad_proveedor, \"Compra\": compra_proveedor, \"Telefono\": telefono_proveedor}\n",
    "\n",
    "\n",
    "num_proveedores = 50\n",
    "\n",
    "producto = [genenerar_proveedor() for _ in range (num_proveedores)]\n",
    "\n",
    "df = pd.DataFrame(producto)\n",
    "\n",
    "#Guardar el archivo\n",
    "df.to_excel(path_proveedores, index=False)\n",
    "\n",
    "# Visualizar en markdown\n",
    "display(Markdown(df.to_markdown()))\n"
   ]
  },
  {
   "cell_type": "markdown",
   "metadata": {},
   "source": [
    "# Generacion de base de datos para inventario"
   ]
  },
  {
   "cell_type": "markdown",
   "metadata": {},
   "source": [
    "## Variables para los productos"
   ]
  },
  {
   "cell_type": "code",
   "execution_count": 48,
   "metadata": {},
   "outputs": [],
   "source": [
    "# Listas de tipos de productos y sabores\n",
    "tipo_prendas = ['Polera', 'Polerón', 'Camisa', \n",
    "                'Pantalón', 'Short', 'Vestido', \n",
    "                'Falda', 'Blusa', 'Camiseta', \n",
    "                'Jean', 'Calza', 'Legging', \n",
    "                'Abrigo', 'Chaleco', \n",
    "                'Traje de Baño', 'Pijama']\n",
    "\n",
    "tallas = ['XS', 'S', 'M', 'L', \n",
    "          'XL', 'XXL', 'XXXL']\n",
    "\n",
    "colores = ['rojo', 'azul', 'amarillo','verde', \n",
    "           'naranja', 'violeta','rosa', 'gris', \n",
    "           'marrón','blanco', 'negro', 'celeste']\n",
    "\n",
    "tipo_materiales = ['algodon', 'poliester', \n",
    "                   'polar', 'mezclilla', 'viscosa']\n",
    "\n",
    "marcas = ['Zara', 'H&M', 'Nike', \n",
    "          'Adidas', 'Gucci', 'Levi\\'s', \n",
    "          'Forever 21', 'Puma', \n",
    "          'Calvin Klein', 'Tommy Hilfiger']\n",
    "\n",
    "estampados = ['sin estampado', 'con estampado']\n",
    "\n",
    "\n"
   ]
  },
  {
   "cell_type": "markdown",
   "metadata": {},
   "source": [
    "## Genera un ID unico para cada producto segun su tipo"
   ]
  },
  {
   "cell_type": "code",
   "execution_count": 49,
   "metadata": {},
   "outputs": [],
   "source": [
    "\n",
    "conteo_por_prefijo = {}\n",
    "def generar_codigo_producto(tipos_producto):\n",
    "    # Obtén los tres primeros caracteres de la descripción\n",
    "    prefijo = tipos_producto[:3].upper()\n",
    "\n",
    "    if prefijo not in conteo_por_prefijo:\n",
    "        conteo_por_prefijo[prefijo] = 1\n",
    "    else:\n",
    "        conteo_por_prefijo[prefijo] += 1\n",
    "\n",
    "    codigo_str = str(conteo_por_prefijo[prefijo]).zfill(4)\n",
    "\n",
    "    return f\"{prefijo}{codigo_str}\"\n"
   ]
  },
  {
   "cell_type": "code",
   "execution_count": 50,
   "metadata": {},
   "outputs": [],
   "source": [
    "df_proveedores = pd.read_excel(path_proveedores)"
   ]
  },
  {
   "cell_type": "code",
   "execution_count": 51,
   "metadata": {},
   "outputs": [
    {
     "data": {
      "text/markdown": [
       "|    | ID Producto   | Tipo de producto   | Descripcion                                                        | Proveedor                                |   Stock |   Stock de seguridad |   Precio de venta |   Coste de compra |\n",
       "|---:|:--------------|:-------------------|:-------------------------------------------------------------------|:-----------------------------------------|--------:|---------------------:|------------------:|------------------:|\n",
       "|  0 | POL0001       | Polerón            | Polerón color celeste talla XXXL marca Levi's de polar             | Vivaldi e figli                          |      56 |                 11.2 |              6990 |           703.905 |\n",
       "|  1 | PAN0001       | Pantalón           | Pantalón color naranja talla XXL marca Tommy Hilfiger de mezclilla | Silva Carvalho - EI                      |      20 |                  4   |              3621 |          2034.19  |\n",
       "|  2 | FAL0001       | Falda              | Falda color gris talla S marca Tommy Hilfiger de poliester         | Brown-Spears                             |      11 |                  2.2 |              9332 |          5536.12  |\n",
       "|  3 | POL0002       | Polera             | Polera color verde talla L marca Calvin Klein de viscosa           | da Rocha Fogaça e Filhos                 |      70 |                 14   |              1939 |           341.532 |\n",
       "|  4 | TRA0001       | Traje de Baño      | Traje de Baño color negro talla M marca Gucci de poliester         | da Mota                                  |      27 |                  5.4 |              1086 |           314.228 |\n",
       "|  5 | ABR0001       | Abrigo             | Abrigo color rojo talla L marca Forever 21 de polar                | Miranda Group                            |      53 |                 10.6 |              1617 |           191.008 |\n",
       "|  6 | CHA0001       | Chaleco            | Chaleco color celeste talla M marca Puma de algodon                | Pires - EI                               |      54 |                 10.8 |              6895 |          1932.94  |\n",
       "|  7 | SHO0001       | Short              | Short color azul talla XL marca H&M de poliester                   | Ribeiro                                  |      66 |                 13.2 |              5145 |           992.844 |\n",
       "|  8 | CAM0001       | Camiseta           | Camiseta color celeste talla S marca Adidas de poliester           | Pizzamano, Chiaramonte e Cesarotti Group |      97 |                 19.4 |              7589 |          1085.63  |\n",
       "|  9 | FAL0002       | Falda              | Falda color azul talla XXL marca Calvin Klein de polar             | Oliveira                                 |      32 |                  6.4 |              1733 |           698.666 |"
      ],
      "text/plain": [
       "<IPython.core.display.Markdown object>"
      ]
     },
     "metadata": {},
     "output_type": "display_data"
    }
   ],
   "source": [
    "\n",
    "def generar_descripcion():\n",
    "  talla = random.choice(tallas)\n",
    "  color = random.choice(colores)\n",
    "  tipo_material = random.choice(tipo_materiales)\n",
    "  marca = random.choice(marcas)\n",
    "\n",
    "  return talla, color, tipo_material, marca\n",
    "\n",
    "\n",
    "def generar_producto():\n",
    "\n",
    "  proveedores = df_proveedores.sample(1).iloc[0]\n",
    "  nombre_proveedor = proveedores['Proveedor']\n",
    "\n",
    "  tipo_prenda = random.choice(tipo_prendas)\n",
    "  talla, color, tipo_material, marca = generar_descripcion()\n",
    "  descripcion = f\"{tipo_prenda} color {color} talla {talla} marca {marca} de {tipo_material}\"\n",
    "  id_producto = generar_codigo_producto(tipo_prenda)\n",
    "  precio_venta = fake.random_int(min=1000, max=10000)\n",
    "  coste_compra = precio_venta - (precio_venta * random.uniform(0.4, 0.9))\n",
    "  stock = random.randint(10, 100)\n",
    "\n",
    "  return {\"ID Producto\": id_producto, \n",
    "          \"Tipo de producto\": tipo_prenda,\n",
    "          \"Descripcion\": descripcion,\n",
    "          \"Proveedor\": nombre_proveedor,\n",
    "          \"Stock\": stock,\n",
    "          \"Stock de seguridad\": stock * 0.2,\n",
    "          \"Precio de venta\": precio_venta,\n",
    "          \"Coste de compra\": coste_compra}\n",
    "\n",
    "num_productos = 10\n",
    "\n",
    "producto = [generar_producto() for _ in range (num_productos)]\n",
    "\n",
    "df = pd.DataFrame(producto)\n",
    "\n",
    "#Guardar el archivo\n",
    "df.to_excel(path_inventario, index=False)\n",
    "\n",
    "# Visualizar en markdown\n",
    "display(Markdown(df.to_markdown()))"
   ]
  },
  {
   "cell_type": "markdown",
   "metadata": {},
   "source": [
    "# Ventas"
   ]
  },
  {
   "cell_type": "markdown",
   "metadata": {},
   "source": [
    "## Leer base de datos de clientes\n",
    "Esto es un paso necesario para porder asociar los clientes ya generados y de los cuales tenemos informacion, con los productos en inventario."
   ]
  },
  {
   "cell_type": "code",
   "execution_count": 52,
   "metadata": {},
   "outputs": [],
   "source": [
    "df_clientes = pd.read_excel(path_info_clientes)\n",
    "df_productos = pd.read_excel(path_inventario)"
   ]
  },
  {
   "cell_type": "code",
   "execution_count": 53,
   "metadata": {},
   "outputs": [],
   "source": [
    "# Establecer un rango realista para las fechas de compras\n",
    "fecha_actual = datetime.now()\n",
    "\n",
    "inicio_rango = fecha_actual - timedelta (days = 180)"
   ]
  },
  {
   "cell_type": "markdown",
   "metadata": {},
   "source": [
    "Se genera una tabla que contenga una fecha realista para la demanda del producto, un nombre de cliente extraido de la base de datos y un tipo de producto que desee. Cabe destacar que de esta forma y usando la funcion 'random.choice' es que puede existir clientes que demanden mas de un tipo de producto, lo cual es completamente valido y cumple con una situacion realista. "
   ]
  },
  {
   "cell_type": "code",
   "execution_count": 54,
   "metadata": {},
   "outputs": [
    {
     "data": {
      "text/markdown": [
       "|    | ID Producto   | Descripcion                                                        | Rut        |   Cantidad |   Precio de venta |   Precio total | Fecha de compra   | Stock anterior   |\n",
       "|---:|:--------------|:-------------------------------------------------------------------|:-----------|-----------:|------------------:|---------------:|:------------------|:-----------------|\n",
       "|  0 | SHO0001       | Short color azul talla XL marca H&M de poliester                   | 15355761-9 |          2 |              5145 |          10290 | 2023-09-24        |                  |\n",
       "|  1 | CAM0001       | Camiseta color celeste talla S marca Adidas de poliester           | 17378570-9 |          2 |              7589 |          15178 | 2023-07-19        |                  |\n",
       "|  2 | FAL0002       | Falda color azul talla XXL marca Calvin Klein de polar             | 11503648-6 |          1 |              1733 |           1733 | 2023-10-15        |                  |\n",
       "|  3 | CAM0001       | Camiseta color celeste talla S marca Adidas de poliester           | 11519897-7 |          3 |              7589 |          22767 | 2023-08-12        |                  |\n",
       "|  4 | CHA0001       | Chaleco color celeste talla M marca Puma de algodon                | 11551957-3 |          2 |              6895 |          13790 | 2023-11-04        |                  |\n",
       "|  5 | ABR0001       | Abrigo color rojo talla L marca Forever 21 de polar                | 14907805-6 |          2 |              1617 |           3234 | 2023-08-15        |                  |\n",
       "|  6 | CHA0001       | Chaleco color celeste talla M marca Puma de algodon                | 11503648-6 |          2 |              6895 |          13790 | 2023-06-16        |                  |\n",
       "|  7 | FAL0001       | Falda color gris talla S marca Tommy Hilfiger de poliester         | 17378570-9 |          3 |              9332 |          27996 | 2023-08-13        |                  |\n",
       "|  8 | PAN0001       | Pantalón color naranja talla XXL marca Tommy Hilfiger de mezclilla | 15355761-9 |          3 |              3621 |          10863 | 2023-08-10        |                  |\n",
       "|  9 | SHO0001       | Short color azul talla XL marca H&M de poliester                   | 17378570-9 |          3 |              5145 |          15435 | 2023-08-05        |                  |"
      ],
      "text/plain": [
       "<IPython.core.display.Markdown object>"
      ]
     },
     "metadata": {},
     "output_type": "display_data"
    }
   ],
   "source": [
    "def generar_ventas():\n",
    "  fecha_compra = fake.date_between_dates(date_start=inicio_rango, date_end=fecha_actual)\n",
    "  \n",
    "\n",
    "  producto = df_productos.sample(1).iloc[0]\n",
    "\n",
    "  id_producto = producto['ID Producto']\n",
    "  descripcion_producto = producto['Descripcion']\n",
    "  precio_venta = producto['Precio de venta']\n",
    "\n",
    "  cliente = df_clientes.sample(1).iloc[0]\n",
    "  nombre_cliente = cliente['Nombre']\n",
    "  rut = cliente['Rut']\n",
    "  cantidad_productos = random.randint(1, 3)\n",
    "  stock_anterior = \"\"\n",
    "  \n",
    "  # Usar en caso de querer generar un ID de compra\n",
    "  id_compra = uuid.uuid4().hex[:6]\n",
    "\n",
    "  return {\"ID Producto\": id_producto, \n",
    "          \"Descripcion\": descripcion_producto,\n",
    "          \"Rut\": rut,\n",
    "          \"Cantidad\": cantidad_productos,\n",
    "          \"Precio de venta\": precio_venta,\n",
    "          \"Precio total\": precio_venta * cantidad_productos,\n",
    "          \"Fecha de compra\": fecha_compra, \n",
    "          \"Stock anterior\": stock_anterior}\n",
    "          \n",
    "\n",
    "num_demanda_clientes = 10\n",
    "\n",
    "demanda = [generar_ventas() for _ in range (num_demanda_clientes)]\n",
    "\n",
    "df = pd.DataFrame(demanda)\n",
    "\n",
    "# Guardar el archivo\n",
    "df.to_excel(path_ventas, index=False)\n",
    "\n",
    "# Visualizar en markdown\n",
    "display(Markdown(df.to_markdown()))"
   ]
  },
  {
   "cell_type": "markdown",
   "metadata": {},
   "source": [
    "# Entradas"
   ]
  },
  {
   "cell_type": "code",
   "execution_count": 55,
   "metadata": {},
   "outputs": [],
   "source": [
    "def generar_entradas ():\n",
    "  id_producto = producto['ID Producto']\n",
    "\n",
    "  cantidad_mes_1 = random.randint(10, 100)\n",
    "\n",
    "\n",
    "  return {\"ID Producto\": id_producto,\n",
    "          \"ID Proveedor\": id_proveedor,\n",
    "          \"Proveedor\": nombre_proveedor,\n",
    "}"
   ]
  },
  {
   "cell_type": "markdown",
   "metadata": {},
   "source": [
    "# Demanda"
   ]
  },
  {
   "cell_type": "code",
   "execution_count": 56,
   "metadata": {},
   "outputs": [
    {
     "ename": "TypeError",
     "evalue": "list indices must be integers or slices, not str",
     "output_type": "error",
     "traceback": [
      "\u001b[0;31m---------------------------------------------------------------------------\u001b[0m",
      "\u001b[0;31mTypeError\u001b[0m                                 Traceback (most recent call last)",
      "\u001b[1;32m/home/kyoumas/repos/erp-grupo13/database_formulation.ipynb Celda 26\u001b[0m line \u001b[0;36m2\n\u001b[1;32m     <a href='vscode-notebook-cell:/home/kyoumas/repos/erp-grupo13/database_formulation.ipynb#X32sZmlsZQ%3D%3D?line=9'>10</a>\u001b[0m   cantidad_mes_8 \u001b[39m=\u001b[39m \u001b[39m\"\u001b[39m\u001b[39m\"\u001b[39m\n\u001b[1;32m     <a href='vscode-notebook-cell:/home/kyoumas/repos/erp-grupo13/database_formulation.ipynb#X32sZmlsZQ%3D%3D?line=11'>12</a>\u001b[0m   \u001b[39mreturn\u001b[39;00m {\u001b[39m\"\u001b[39m\u001b[39mID Producto\u001b[39m\u001b[39m\"\u001b[39m: id_producto,\n\u001b[1;32m     <a href='vscode-notebook-cell:/home/kyoumas/repos/erp-grupo13/database_formulation.ipynb#X32sZmlsZQ%3D%3D?line=12'>13</a>\u001b[0m           \u001b[39m\"\u001b[39m\u001b[39mCantidad mes 1\u001b[39m\u001b[39m\"\u001b[39m: cantidad_mes_1,\n\u001b[1;32m     <a href='vscode-notebook-cell:/home/kyoumas/repos/erp-grupo13/database_formulation.ipynb#X32sZmlsZQ%3D%3D?line=13'>14</a>\u001b[0m           \u001b[39m\"\u001b[39m\u001b[39mCantidad mes 2\u001b[39m\u001b[39m\"\u001b[39m: cantidad_mes_2,\n\u001b[0;32m   (...)\u001b[0m\n\u001b[1;32m     <a href='vscode-notebook-cell:/home/kyoumas/repos/erp-grupo13/database_formulation.ipynb#X32sZmlsZQ%3D%3D?line=18'>19</a>\u001b[0m           \u001b[39m\"\u001b[39m\u001b[39mPronostico 1\u001b[39m\u001b[39m\"\u001b[39m: cantidad_mes_7,\n\u001b[1;32m     <a href='vscode-notebook-cell:/home/kyoumas/repos/erp-grupo13/database_formulation.ipynb#X32sZmlsZQ%3D%3D?line=19'>20</a>\u001b[0m           \u001b[39m\"\u001b[39m\u001b[39mPronostico 2\u001b[39m\u001b[39m\"\u001b[39m: cantidad_mes_8,}\n\u001b[0;32m---> <a href='vscode-notebook-cell:/home/kyoumas/repos/erp-grupo13/database_formulation.ipynb#X32sZmlsZQ%3D%3D?line=21'>22</a>\u001b[0m \u001b[39mprint\u001b[39m(generar_demanda())\n",
      "\u001b[1;32m/home/kyoumas/repos/erp-grupo13/database_formulation.ipynb Celda 26\u001b[0m line \u001b[0;36m2\n\u001b[1;32m      <a href='vscode-notebook-cell:/home/kyoumas/repos/erp-grupo13/database_formulation.ipynb#X32sZmlsZQ%3D%3D?line=0'>1</a>\u001b[0m \u001b[39mdef\u001b[39;00m \u001b[39mgenerar_demanda\u001b[39m ():\n\u001b[0;32m----> <a href='vscode-notebook-cell:/home/kyoumas/repos/erp-grupo13/database_formulation.ipynb#X32sZmlsZQ%3D%3D?line=1'>2</a>\u001b[0m   id_producto \u001b[39m=\u001b[39m producto[\u001b[39m'\u001b[39;49m\u001b[39mID Producto\u001b[39;49m\u001b[39m'\u001b[39;49m]\n\u001b[1;32m      <a href='vscode-notebook-cell:/home/kyoumas/repos/erp-grupo13/database_formulation.ipynb#X32sZmlsZQ%3D%3D?line=2'>3</a>\u001b[0m   cantidad_mes_1 \u001b[39m=\u001b[39m random\u001b[39m.\u001b[39mrandint(\u001b[39m10\u001b[39m, \u001b[39m100\u001b[39m)\n\u001b[1;32m      <a href='vscode-notebook-cell:/home/kyoumas/repos/erp-grupo13/database_formulation.ipynb#X32sZmlsZQ%3D%3D?line=3'>4</a>\u001b[0m   cantidad_mes_2 \u001b[39m=\u001b[39m random\u001b[39m.\u001b[39mrandint(\u001b[39m10\u001b[39m, \u001b[39m100\u001b[39m)\n",
      "\u001b[0;31mTypeError\u001b[0m: list indices must be integers or slices, not str"
     ]
    }
   ],
   "source": [
    "def generar_demanda ():\n",
    "  id_producto = producto['ID Producto']\n",
    "  cantidad_mes_1 = random.randint(10, 100)\n",
    "  cantidad_mes_2 = random.randint(10, 100)\n",
    "  cantidad_mes_3 = random.randint(10, 100)\n",
    "  cantidad_mes_4 = random.randint(10, 100)\n",
    "  cantidad_mes_5 = random.randint(10, 100)\n",
    "  cantidad_mes_6 = random.randint(10, 100)\n",
    "  cantidad_mes_7 = \"\"\n",
    "  cantidad_mes_8 = \"\"\n",
    "\n",
    "  return {\"ID Producto\": id_producto,\n",
    "          \"Cantidad mes 1\": cantidad_mes_1,\n",
    "          \"Cantidad mes 2\": cantidad_mes_2,\n",
    "          \"Cantidad mes 3\": cantidad_mes_3,\n",
    "          \"Cantidad mes 4\": cantidad_mes_4,\n",
    "          \"Cantidad mes 5\": cantidad_mes_5,\n",
    "          \"Cantidad mes 6\": cantidad_mes_6,\n",
    "          \"Pronostico 1\": cantidad_mes_7,\n",
    "          \"Pronostico 2\": cantidad_mes_8,}\n",
    "\n",
    "# Generar la demanda para cada producto\n",
    "demanda = [generar_demanda() for producto in productos]\n",
    "\n",
    "# Crear un DataFrame a partir de la demanda\n",
    "df_demanda = pd.DataFrame(demanda)\n",
    "\n",
    "# Ordenar el DataFrame por 'ID Producto' de forma descendente\n",
    "df_demanda = df_demanda.sort_values('ID Producto', ascending=False)\n",
    "\n",
    "# Visualizar el DataFrame\n",
    "print(df_demanda)"
   ]
  }
 ],
 "metadata": {
  "kernelspec": {
   "display_name": "genDB",
   "language": "python",
   "name": "python3"
  },
  "language_info": {
   "codemirror_mode": {
    "name": "ipython",
    "version": 3
   },
   "file_extension": ".py",
   "mimetype": "text/x-python",
   "name": "python",
   "nbconvert_exporter": "python",
   "pygments_lexer": "ipython3",
   "version": "3.11.5"
  }
 },
 "nbformat": 4,
 "nbformat_minor": 2
}
