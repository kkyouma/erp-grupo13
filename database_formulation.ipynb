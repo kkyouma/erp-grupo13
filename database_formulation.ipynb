{
 "cells": [
  {
   "cell_type": "markdown",
   "metadata": {},
   "source": [
    "Librerias necesarias"
   ]
  },
  {
   "cell_type": "code",
   "execution_count": 115,
   "metadata": {},
   "outputs": [],
   "source": [
    "import pandas as pd\n",
    "import os \n",
    "import random\n",
    "import uuid\n",
    "import string\n",
    "from faker import Faker\n",
    "from datetime import datetime, timedelta\n",
    "from IPython.display import display, Markdown # Libreria unicamente para visualizar datos markdown en jupyter"
   ]
  },
  {
   "cell_type": "markdown",
   "metadata": {},
   "source": [
    "Es necesario definir donde se almacenaran las bases de datos generadas para mantener un orden"
   ]
  },
  {
   "cell_type": "code",
   "execution_count": 116,
   "metadata": {},
   "outputs": [],
   "source": [
    "# Carpeta para almacenar las bases de datos generadas\n",
    "carpeta_database = 'database'\n",
    "\n",
    "# Crear una carpeta si esta no existe\n",
    "if not os.path.exists(carpeta_database):\n",
    "  os.makedirs(carpeta_database)\n",
    "\n",
    "# Path para guardar el archivo\n",
    "path_info_clientes = os.path.join(carpeta_database, 'info_clientes.xlsx')\n",
    "path_inventario = os.path.join(carpeta_database, 'inventario.xlsx')\n",
    "path_ventas = os.path.join(carpeta_database, 'ventas.xlsx')\n",
    "path_proveedores = os.path.join(carpeta_database, 'proveedores.xlsx')\n",
    "path_entradas = os.path.join(carpeta_database, 'entradas.xlsx')\n",
    "path_demanda = os.path.join(carpeta_database, 'demanda.xlsx')"
   ]
  },
  {
   "cell_type": "markdown",
   "metadata": {},
   "source": [
    "# Generacion de base de datos para clientes\n",
    "\n"
   ]
  },
  {
   "cell_type": "code",
   "execution_count": 117,
   "metadata": {},
   "outputs": [],
   "source": [
    "def generar_rut():\n",
    "    # Genera un número aleatorio de 8 dígitos para el cuerpo del RUT \n",
    "    cuerpo_rut = str(random.randint(10000000, 20000000))\n",
    "\n",
    "    # Calcula el dígito verificador utilizando el algoritmo de Módulo 11\n",
    "    suma = sum(int(cuerpo_rut[i]) * (i % 6 + 2) for i in range(7))\n",
    "    digito_verificador = 11 - (suma % 11)\n",
    "    if digito_verificador == 11:\n",
    "        digito_verificador = 0\n",
    "    elif digito_verificador == 10:\n",
    "        digito_verificador = 'K'\n",
    "\n",
    "    # Combina el cuerpo y el dígito verificador para formar el RUT completo\n",
    "    rut_completo = f\"{cuerpo_rut}-{digito_verificador}\"\n",
    "\n",
    "    return rut_completo"
   ]
  },
  {
   "cell_type": "code",
   "execution_count": 118,
   "metadata": {},
   "outputs": [
    {
     "data": {
      "text/markdown": [
       "|    | Nombre                       | Rut        | Ciudad         | Correo                          | Telefono        |\n",
       "|---:|:-----------------------------|:-----------|:---------------|:--------------------------------|:----------------|\n",
       "|  0 | Guillermo Martínez Blanco    | 15421682-3 | Villa Alegre   | santibanezalejandro@example.net | +56 9 8425 9542 |\n",
       "|  1 | Gaspar Díaz Fuentes          | 17117183-2 | Nueva Imperial | ester82@example.org             | +56 800 580 309 |\n",
       "|  2 | Víctor Sánchez               | 16600577-6 | Timaukel       | vgomez@example.com              | +56 53 373 2211 |\n",
       "|  3 | Abelardo Medel               | 15748462-1 | Florida        | camilafernandez@example.com     | +56 9 7634 6331 |\n",
       "|  4 | Bárbara Medina               | 16839305-1 | Lanco          | arayasamuel@example.org         | +56 35 387 5854 |\n",
       "|  5 | María Cifuentes              | 10666072-4 | Collipulli     | miguel12@example.net            | +56 2 2436 5353 |\n",
       "|  6 | Camila González Quintana     | 14995229-0 | San Felipe     | rosasalgado@example.com         | +56 33 374 4838 |\n",
       "|  7 | Joan Juan Muñoz Arcos        | 16199939-6 | Coquimbo       | emilia98@example.org            | +56 61 390 7788 |\n",
       "|  8 | Susan Quiroga Arenas         | 12455558-8 | Tiltil         | maximo31@example.net            | +56 2 2404 3197 |\n",
       "|  9 | Tamara Paula Miranda Cáceres | 12979154-4 | Zapallar       | macarenasantana@example.com     | +56 800 977 159 |"
      ],
      "text/plain": [
       "<IPython.core.display.Markdown object>"
      ]
     },
     "metadata": {},
     "output_type": "display_data"
    }
   ],
   "source": [
    "fake = Faker('es_CL')\n",
    "\n",
    "def generar_cliente():\n",
    "  rut = generar_rut()\n",
    "  nombre = fake.name()\n",
    "  correo = fake.email()\n",
    "  telefono = fake.phone_number()\n",
    "  ciudad = fake.city()\n",
    "\n",
    "  return {\"Nombre\": nombre, \"Rut\": rut, \"Ciudad\": ciudad, \"Correo\": correo, \"Telefono\": telefono}\n",
    "\n",
    "cantidad_clientes = 1500\n",
    "\n",
    "cliente = [generar_cliente() for _ in range (cantidad_clientes)]\n",
    "\n",
    "df = pd.DataFrame(cliente)\n",
    "\n",
    "# Guardar el archivo\n",
    "df.to_excel(path_info_clientes, index=False)\n",
    "\n",
    "# Visualizar en markdown solo los primeros 10\n",
    "display(Markdown(df.head(10).to_markdown()))"
   ]
  },
  {
   "cell_type": "markdown",
   "metadata": {},
   "source": [
    "# Generacion base de datos para proveedores"
   ]
  },
  {
   "cell_type": "code",
   "execution_count": 119,
   "metadata": {},
   "outputs": [
    {
     "data": {
      "text/markdown": [
       "|    | ID Proveedor   | Proveedor                          | Ciudad             |   Compra | Telefono             |\n",
       "|---:|:---------------|:-----------------------------------|:-------------------|---------:|:---------------------|\n",
       "|  0 | P-0001         | Pace-Zabarella SPA                 | Cintolese          |       81 | 07614454675          |\n",
       "|  1 | P-0002         | Marquez-Robertson                  | Warefurt           |       93 | (052)145-9663x95885  |\n",
       "|  2 | P-0003         | Nogueira                           | da Rosa Paulista   |       36 | 0900 336 2343        |\n",
       "|  3 | P-0004         | Franklin LLC                       | South Ashleyville  |       11 | (489)074-6550        |\n",
       "|  4 | P-0005         | Pugh-Landry                        | Pamelafort         |       87 | 001-626-813-9525x351 |\n",
       "|  5 | P-0006         | Peixoto                            | Nogueira de Vieira |       52 | +55 (071) 4850-3523  |\n",
       "|  6 | P-0007         | Guglielmi-Parpinel Group           | Osteria Nuova      |       28 | 01318417858          |\n",
       "|  7 | P-0008         | Morgagni, Modiano e Coppola s.r.l. | Wahlen             |       25 | +39 082351856        |\n",
       "|  8 | P-0009         | Pinto - EI                         | Monteiro de Jesus  |       81 | 0800 323 7937        |\n",
       "|  9 | P-0010         | Trevino-Pope                       | South Lisa         |       36 | 389-696-9891         |"
      ],
      "text/plain": [
       "<IPython.core.display.Markdown object>"
      ]
     },
     "metadata": {},
     "output_type": "display_data"
    }
   ],
   "source": [
    "fake_usa = Faker('en_US')\n",
    "fake_brasil = Faker('pt_BR')\n",
    "fake_italia = Faker('it_IT')\n",
    "fake_chile = Faker('es_CL')\n",
    "fake_alemania = Faker('de_DE')\n",
    "fake_francia = Faker('fr_FR')\n",
    "\n",
    "datos_falsos = [fake_usa, fake_brasil, fake_italia]\n",
    "\n",
    "i = 0\n",
    "def genenerar_proveedor():\n",
    "  global i\n",
    "  i = i + 1\n",
    "  fake_extranjero = random.choice(datos_falsos)\n",
    "\n",
    "  id_proveedor = f\"P-{str(i).zfill(4)}\"\n",
    "  telefono_proveedor = fake_extranjero.phone_number()\n",
    "  ciudad_proveedor = fake_extranjero.city()\n",
    "  compania_proveedor = fake_extranjero.company()\n",
    "  compra_proveedor = random.randint(10, 100)\n",
    "\n",
    "  return {\"ID Proveedor\": id_proveedor, \"Proveedor\": compania_proveedor, \"Ciudad\": ciudad_proveedor, \"Compra\": compra_proveedor, \"Telefono\": telefono_proveedor}\n",
    "\n",
    "\n",
    "num_proveedores = 50\n",
    "\n",
    "producto = [genenerar_proveedor() for _ in range (num_proveedores)]\n",
    "\n",
    "df = pd.DataFrame(producto)\n",
    "\n",
    "#Guardar el archivo\n",
    "df.to_excel(path_proveedores, index=False)\n",
    "\n",
    "\n",
    "# Visualizar en markdown solo los primeros 10\n",
    "display(Markdown(df.head(10).to_markdown()))\n"
   ]
  },
  {
   "cell_type": "markdown",
   "metadata": {},
   "source": [
    "# Generacion de base de datos para inventario"
   ]
  },
  {
   "cell_type": "markdown",
   "metadata": {},
   "source": [
    "## Variables para los productos"
   ]
  },
  {
   "cell_type": "code",
   "execution_count": 120,
   "metadata": {},
   "outputs": [],
   "source": [
    "# Listas de tipos de productos y sabores\n",
    "tipo_prendas = ['Polera', 'Polerón', 'Camisa', \n",
    "                'Pantalón', 'Short', 'Vestido', \n",
    "                'Falda', 'Blusa', 'Camiseta', \n",
    "                'Jean', 'Calza', 'Legging', \n",
    "                'Abrigo', 'Chaleco', \n",
    "                'Traje de Baño', 'Pijama']\n",
    "\n",
    "tallas = ['XS', 'S', 'M', 'L', \n",
    "          'XL', 'XXL', 'XXXL']\n",
    "\n",
    "colores = ['rojo', 'azul', 'amarillo','verde', \n",
    "           'naranja', 'violeta','rosa', 'gris', \n",
    "           'marrón','blanco', 'negro', 'celeste']\n",
    "\n",
    "tipo_materiales = ['algodon', 'poliester', \n",
    "                   'polar', 'mezclilla', 'viscosa']\n",
    "\n",
    "marcas = ['Zara', 'H&M', 'Nike', \n",
    "          'Adidas', 'Gucci', 'Levi\\'s', \n",
    "          'Forever 21', 'Puma', \n",
    "          'Calvin Klein', 'Tommy Hilfiger']\n",
    "\n",
    "estampados = ['sin estampado', 'con estampado']\n",
    "\n",
    "\n"
   ]
  },
  {
   "cell_type": "markdown",
   "metadata": {},
   "source": [
    "## Genera un ID unico para cada producto segun su tipo"
   ]
  },
  {
   "cell_type": "code",
   "execution_count": 121,
   "metadata": {},
   "outputs": [],
   "source": [
    "\n",
    "conteo_por_prefijo = {}\n",
    "def generar_codigo_producto(tipos_producto):\n",
    "    # Obtén los tres primeros caracteres de la descripción\n",
    "    prefijo = tipos_producto[:3].upper()\n",
    "\n",
    "    if prefijo not in conteo_por_prefijo:\n",
    "        conteo_por_prefijo[prefijo] = 1\n",
    "    else:\n",
    "        conteo_por_prefijo[prefijo] += 1\n",
    "\n",
    "    codigo_str = str(conteo_por_prefijo[prefijo]).zfill(4)\n",
    "\n",
    "    return f\"{prefijo}{codigo_str}\"\n"
   ]
  },
  {
   "cell_type": "code",
   "execution_count": 122,
   "metadata": {},
   "outputs": [],
   "source": [
    "df_proveedores = pd.read_excel(path_proveedores)"
   ]
  },
  {
   "cell_type": "code",
   "execution_count": 123,
   "metadata": {},
   "outputs": [
    {
     "data": {
      "text/markdown": [
       "|    | ID Producto   | Tipo de producto   | Descripcion                                                  | Proveedor              |   Stock |   Stock de seguridad |   Precio de venta |   Coste de compra |\n",
       "|---:|:--------------|:-------------------|:-------------------------------------------------------------|:-----------------------|--------:|---------------------:|------------------:|------------------:|\n",
       "|  0 | CAM0001       | Camisa             | Camisa color celeste talla L marca Gucci de algodon          | Holt and Sons          |      97 |                 19.4 |              7884 |          3489.67  |\n",
       "|  1 | BLU0001       | Blusa              | Blusa color naranja talla S marca Adidas de polar            | Fogaça S.A.            |      73 |                 14.6 |              1731 |           675.889 |\n",
       "|  2 | PIJ0001       | Pijama             | Pijama color blanco talla XL marca Calvin Klein de poliester | Pace-Zabarella SPA     |      79 |                 15.8 |              2042 |           491.213 |\n",
       "|  3 | ABR0001       | Abrigo             | Abrigo color blanco talla XXXL marca H&M de poliester        | Pereira                |      63 |                 12.6 |              2076 |          1191.35  |\n",
       "|  4 | CAM0002       | Camiseta           | Camiseta color amarillo talla S marca Forever 21 de algodon  | Saragat-Esposito Group |      30 |                  6   |              3883 |           534.16  |\n",
       "|  5 | LEG0001       | Legging            | Legging color azul talla XXXL marca Zara de viscosa          | Jesus Martins - ME     |      63 |                 12.6 |              1043 |           388.957 |\n",
       "|  6 | SHO0001       | Short              | Short color verde talla S marca Levi's de mezclilla          | Garcia-Khan            |      60 |                 12   |              1672 |           528.988 |\n",
       "|  7 | CAM0003       | Camisa             | Camisa color marrón talla XL marca Tommy Hilfiger de polar   | Nogueira               |      59 |                 11.8 |              7779 |          4490.05  |\n",
       "|  8 | JEA0001       | Jean               | Jean color blanco talla XL marca Zara de poliester           | da Costa               |      56 |                 11.2 |              7442 |          3714.09  |\n",
       "|  9 | SHO0002       | Short              | Short color marrón talla L marca Forever 21 de algodon       | Franklin LLC           |      56 |                 11.2 |              4113 |          2061.23  |"
      ],
      "text/plain": [
       "<IPython.core.display.Markdown object>"
      ]
     },
     "metadata": {},
     "output_type": "display_data"
    }
   ],
   "source": [
    "\n",
    "def generar_descripcion():\n",
    "  talla = random.choice(tallas)\n",
    "  color = random.choice(colores)\n",
    "  tipo_material = random.choice(tipo_materiales)\n",
    "  marca = random.choice(marcas)\n",
    "\n",
    "  return talla, color, tipo_material, marca\n",
    "\n",
    "\n",
    "def generar_producto():\n",
    "\n",
    "  proveedores = df_proveedores.sample(1).iloc[0]\n",
    "  nombre_proveedor = proveedores['Proveedor']\n",
    "\n",
    "  tipo_prenda = random.choice(tipo_prendas)\n",
    "  talla, color, tipo_material, marca = generar_descripcion()\n",
    "  descripcion = f\"{tipo_prenda} color {color} talla {talla} marca {marca} de {tipo_material}\"\n",
    "  id_producto = generar_codigo_producto(tipo_prenda)\n",
    "  precio_venta = fake.random_int(min=1000, max=10000)\n",
    "  coste_compra = precio_venta - (precio_venta * random.uniform(0.4, 0.9))\n",
    "  stock = random.randint(10, 100)\n",
    "\n",
    "  return {\"ID Producto\": id_producto, \n",
    "          \"Tipo de producto\": tipo_prenda,\n",
    "          \"Descripcion\": descripcion,\n",
    "          \"Proveedor\": nombre_proveedor,\n",
    "          \"Stock\": stock,\n",
    "          \"Stock de seguridad\": stock * 0.2,\n",
    "          \"Precio de venta\": precio_venta,\n",
    "          \"Coste de compra\": coste_compra}\n",
    "\n",
    "num_productos = 500\n",
    "\n",
    "producto = [generar_producto() for _ in range (num_productos)]\n",
    "\n",
    "df = pd.DataFrame(producto)\n",
    "\n",
    "#Guardar el archivo\n",
    "df.to_excel(path_inventario, index=False)\n",
    "\n",
    "# Visualizar en markdown solo los primeros 10\n",
    "display(Markdown(df.head(10).to_markdown()))"
   ]
  },
  {
   "cell_type": "markdown",
   "metadata": {},
   "source": [
    "# Ventas"
   ]
  },
  {
   "cell_type": "markdown",
   "metadata": {},
   "source": [
    "## Leer base de datos de clientes\n",
    "Esto es un paso necesario para porder asociar los clientes ya generados y de los cuales tenemos informacion, con los productos en inventario."
   ]
  },
  {
   "cell_type": "code",
   "execution_count": 124,
   "metadata": {},
   "outputs": [],
   "source": [
    "df_clientes = pd.read_excel(path_info_clientes)\n",
    "df_productos = pd.read_excel(path_inventario)"
   ]
  },
  {
   "cell_type": "code",
   "execution_count": 125,
   "metadata": {},
   "outputs": [],
   "source": [
    "# Establecer un rango realista para las fechas de compras\n",
    "fecha_actual = datetime.now()\n",
    "\n",
    "rango_clientes = fecha_actual - timedelta (days = 180)\n",
    "rango_proveedores = fecha_actual - timedelta (days = 365)"
   ]
  },
  {
   "cell_type": "markdown",
   "metadata": {},
   "source": [
    "Se genera una tabla que contenga una fecha realista para la demanda del producto, un nombre de cliente extraido de la base de datos y un tipo de producto que desee. Cabe destacar que de esta forma y usando la funcion 'random.choice' es que puede existir clientes que demanden mas de un tipo de producto, lo cual es completamente valido y cumple con una situacion realista. "
   ]
  },
  {
   "cell_type": "code",
   "execution_count": 126,
   "metadata": {},
   "outputs": [
    {
     "data": {
      "text/markdown": [
       "|    | ID Producto   | Descripcion                                                 | Rut        |   Cantidad |   Precio de venta |   Precio total | Fecha de compra   | Stock anterior   |\n",
       "|---:|:--------------|:------------------------------------------------------------|:-----------|-----------:|------------------:|---------------:|:------------------|:-----------------|\n",
       "|  0 | FAL0022       | Falda color azul talla M marca Puma de viscosa              | 12960492-1 |          2 |              5480 |          10960 | 2023-08-14        |                  |\n",
       "|  1 | JEA0006       | Jean color amarillo talla M marca Gucci de algodon          | 14483550-K |          2 |              2815 |           5630 | 2023-11-29        |                  |\n",
       "|  2 | FAL0034       | Falda color verde talla XS marca Puma de mezclilla          | 12976252-4 |          1 |              5917 |           5917 | 2023-09-10        |                  |\n",
       "|  3 | TRA0010       | Traje de Baño color verde talla L marca Levi's de poliester | 15247542-2 |          2 |              9494 |          18988 | 2023-07-20        |                  |\n",
       "|  4 | PIJ0016       | Pijama color marrón talla L marca Levi's de viscosa         | 10069704-8 |          1 |              7182 |           7182 | 2023-11-17        |                  |\n",
       "|  5 | LEG0001       | Legging color azul talla XXXL marca Zara de viscosa         | 14808451-0 |          2 |              1043 |           2086 | 2023-11-28        |                  |\n",
       "|  6 | LEG0012       | Legging color gris talla L marca Nike de algodon            | 15423741-3 |          1 |              7958 |           7958 | 2023-07-10        |                  |\n",
       "|  7 | CAM0055       | Camisa color blanco talla M marca Adidas de poliester       | 11637344-6 |          3 |              5844 |          17532 | 2023-06-21        |                  |\n",
       "|  8 | PIJ0002       | Pijama color negro talla XL marca Gucci de viscosa          | 17594819-6 |          3 |              9484 |          28452 | 2023-11-16        |                  |\n",
       "|  9 | BLU0031       | Blusa color rosa talla S marca Tommy Hilfiger de algodon    | 11708739-7 |          1 |              7799 |           7799 | 2023-08-15        |                  |"
      ],
      "text/plain": [
       "<IPython.core.display.Markdown object>"
      ]
     },
     "metadata": {},
     "output_type": "display_data"
    }
   ],
   "source": [
    "def generar_ventas():\n",
    "  fecha_compra = fake.date_between_dates(date_start=rango_clientes, date_end=fecha_actual)\n",
    "  \n",
    "\n",
    "  producto = df_productos.sample(1).iloc[0]\n",
    "\n",
    "  id_producto = producto['ID Producto']\n",
    "  descripcion_producto = producto['Descripcion']\n",
    "  precio_venta = producto['Precio de venta']\n",
    "\n",
    "  cliente = df_clientes.sample(1).iloc[0]\n",
    "  nombre_cliente = cliente['Nombre']\n",
    "  rut = cliente['Rut']\n",
    "  cantidad_productos = random.randint(1, 3)\n",
    "  stock_anterior = \"\"\n",
    "  \n",
    "  # Usar en caso de querer generar un ID de compra\n",
    "  id_compra = uuid.uuid4().hex[:6]\n",
    "\n",
    "  return {\"ID Producto\": id_producto, \n",
    "          \"Descripcion\": descripcion_producto,\n",
    "          \"Rut\": rut,\n",
    "          \"Cantidad\": cantidad_productos,\n",
    "          \"Precio de venta\": precio_venta,\n",
    "          \"Precio total\": precio_venta * cantidad_productos,\n",
    "          \"Fecha de compra\": fecha_compra, \n",
    "          \"Stock anterior\": stock_anterior}\n",
    "          \n",
    "\n",
    "num_demanda_clientes = 300\n",
    "\n",
    "demanda = [generar_ventas() for _ in range (num_demanda_clientes)]\n",
    "\n",
    "df = pd.DataFrame(demanda)\n",
    "\n",
    "# Guardar el archivo\n",
    "df.to_excel(path_ventas, index=False)\n",
    "\n",
    "# Visualizar en markdown solo los primeros 10\n",
    "display(Markdown(df.head(10).to_markdown()))"
   ]
  },
  {
   "cell_type": "markdown",
   "metadata": {},
   "source": [
    "# Entradas"
   ]
  },
  {
   "cell_type": "code",
   "execution_count": 127,
   "metadata": {},
   "outputs": [
    {
     "data": {
      "text/markdown": [
       "|    | ID Producto   | ID Proveedor   | Descripcion                                              | Proveedor                          |   Cantidad | Fecha de compra   |\n",
       "|---:|:--------------|:---------------|:---------------------------------------------------------|:-----------------------------------|-----------:|:------------------|\n",
       "|  0 | VES0003       | P-0008         | Vestido color amarillo talla S marca Puma de mezclilla   | Morgagni, Modiano e Coppola s.r.l. |         34 | 2023-12-05        |\n",
       "|  1 | CAM0021       | P-0006         | Camiseta color rosa talla XL marca Zara de polar         | Peixoto                            |         54 | 2023-06-01        |\n",
       "|  2 | CAM0043       | P-0028         | Camiseta color gris talla L marca Gucci de polar         | Campos S/A                         |         67 | 2023-01-02        |\n",
       "|  3 | POL0008       | P-0014         | Polera color verde talla M marca Adidas de viscosa       | Perez-Novak                        |         56 | 2023-02-26        |\n",
       "|  4 | BLU0035       | P-0039         | Blusa color blanco talla XL marca Puma de viscosa        | Anderson-Francis                   |         64 | 2023-04-06        |\n",
       "|  5 | BLU0035       | P-0017         | Blusa color blanco talla XL marca Puma de viscosa        | Robinson-Kelley                    |         25 | 2023-04-30        |\n",
       "|  6 | POL0006       | P-0010         | Polerón color azul talla M marca Forever 21 de mezclilla | Trevino-Pope                       |         91 | 2023-06-14        |\n",
       "|  7 | CAM0022       | P-0013         | Camisa color marrón talla XS marca Adidas de polar       | Viana - ME                         |         28 | 2023-04-05        |\n",
       "|  8 | PAN0001       | P-0019         | Pantalón color violeta talla XXXL marca Gucci de viscosa | Scott Group                        |         70 | 2023-07-28        |\n",
       "|  9 | VES0022       | P-0049         | Vestido color amarillo talla L marca Levi's de poliester | Boito-Curci Group                  |         92 | 2023-07-21        |"
      ],
      "text/plain": [
       "<IPython.core.display.Markdown object>"
      ]
     },
     "metadata": {},
     "output_type": "display_data"
    }
   ],
   "source": [
    "def generar_entradas ():\n",
    "  fecha_compra = fake.date_between_dates(date_start=rango_proveedores, date_end=fecha_actual)\n",
    "\n",
    "  proveedor = df_proveedores.sample(1).iloc[0]\n",
    "  producto = df_productos.sample(1).iloc[0]\n",
    "\n",
    "  id_producto = producto['ID Producto']\n",
    "  id_proveedor = proveedor['ID Proveedor']\n",
    "  descripcion = producto['Descripcion']\n",
    "  nombre_proveedor = proveedor['Proveedor']\n",
    "  cantidad_mes_1 = random.randint(10, 100)\n",
    "\n",
    "\n",
    "  return {\"ID Producto\": id_producto,\n",
    "          \"ID Proveedor\": id_proveedor,\n",
    "          \"Descripcion\": descripcion,\n",
    "          \"Proveedor\": nombre_proveedor,\n",
    "          \"Cantidad\": cantidad_mes_1,\n",
    "          \"Fecha de compra\": fecha_compra\n",
    "}\n",
    "\n",
    "num_entradas = 500\n",
    "\n",
    "entradas = [generar_entradas() for _ in range (num_entradas)]\n",
    "\n",
    "df = pd.DataFrame(entradas)\n",
    "\n",
    "# Guardar el archivo\n",
    "df.to_excel(path_entradas, index=False)\n",
    "\n",
    "# Visualizar en markdown solo los primeros 10\n",
    "display(Markdown(df.head(10).to_markdown()))"
   ]
  },
  {
   "cell_type": "markdown",
   "metadata": {},
   "source": [
    "# Demanda"
   ]
  },
  {
   "cell_type": "code",
   "execution_count": 128,
   "metadata": {},
   "outputs": [
    {
     "data": {
      "text/markdown": [
       "|    | ID Producto   | ID Proveedor   | Descripcion                                              | Proveedor                          |   Cantidad | Fecha de compra   |\n",
       "|---:|:--------------|:---------------|:---------------------------------------------------------|:-----------------------------------|-----------:|:------------------|\n",
       "|  0 | VES0003       | P-0008         | Vestido color amarillo talla S marca Puma de mezclilla   | Morgagni, Modiano e Coppola s.r.l. |         34 | 2023-12-05        |\n",
       "|  1 | CAM0021       | P-0006         | Camiseta color rosa talla XL marca Zara de polar         | Peixoto                            |         54 | 2023-06-01        |\n",
       "|  2 | CAM0043       | P-0028         | Camiseta color gris talla L marca Gucci de polar         | Campos S/A                         |         67 | 2023-01-02        |\n",
       "|  3 | POL0008       | P-0014         | Polera color verde talla M marca Adidas de viscosa       | Perez-Novak                        |         56 | 2023-02-26        |\n",
       "|  4 | BLU0035       | P-0039         | Blusa color blanco talla XL marca Puma de viscosa        | Anderson-Francis                   |         64 | 2023-04-06        |\n",
       "|  5 | BLU0035       | P-0017         | Blusa color blanco talla XL marca Puma de viscosa        | Robinson-Kelley                    |         25 | 2023-04-30        |\n",
       "|  6 | POL0006       | P-0010         | Polerón color azul talla M marca Forever 21 de mezclilla | Trevino-Pope                       |         91 | 2023-06-14        |\n",
       "|  7 | CAM0022       | P-0013         | Camisa color marrón talla XS marca Adidas de polar       | Viana - ME                         |         28 | 2023-04-05        |\n",
       "|  8 | PAN0001       | P-0019         | Pantalón color violeta talla XXXL marca Gucci de viscosa | Scott Group                        |         70 | 2023-07-28        |\n",
       "|  9 | VES0022       | P-0049         | Vestido color amarillo talla L marca Levi's de poliester | Boito-Curci Group                  |         92 | 2023-07-21        |"
      ],
      "text/plain": [
       "<IPython.core.display.Markdown object>"
      ]
     },
     "metadata": {},
     "output_type": "display_data"
    }
   ],
   "source": [
    "def generar_demanda (producto):\n",
    "  id_producto = producto['ID Producto']\n",
    "  cantidad_mes_1 = random.randint(50, 200)\n",
    "  cantidad_mes_2 = random.randint(10, 100)\n",
    "  cantidad_mes_3 = random.randint(50, 200)\n",
    "  cantidad_mes_4 = random.randint(10, 100)\n",
    "  cantidad_mes_5 = random.randint(50, 200)\n",
    "  cantidad_mes_6 = random.randint(10, 100)\n",
    "  cantidad_mes_7 = \"\"\n",
    "  cantidad_mes_8 = \"\"\n",
    "\n",
    "  return {\"ID Producto\": id_producto,\n",
    "          \"Cantidad mes 1\": cantidad_mes_1,\n",
    "          \"Cantidad mes 2\": cantidad_mes_2,\n",
    "          \"Cantidad mes 3\": cantidad_mes_3,\n",
    "          \"Cantidad mes 4\": cantidad_mes_4,\n",
    "          \"Cantidad mes 5\": cantidad_mes_5,\n",
    "          \"Cantidad mes 6\": cantidad_mes_6,\n",
    "          \"Pronostico 1\": cantidad_mes_7,\n",
    "          \"Pronostico 2\": cantidad_mes_8,}\n",
    "\n",
    "# Supongamos que 'path_inventario' es una lista de diccionarios que contiene información sobre productos\n",
    "path_inventario = df_productos.to_dict('records')\n",
    "productos = sorted(path_inventario, key=lambda x: x['ID Producto'])\n",
    "\n",
    "# Generar la demanda para cada producto\n",
    "demanda = [generar_demanda(producto) for producto in productos]\n",
    "\n",
    "# Crear un DataFrame a partir de la demanda\n",
    "df_demanda = pd.DataFrame(demanda)\n",
    "\n",
    "df_demanda.to_excel(path_demanda, index=False)\n",
    "\n",
    "# Visualizar en markdown solo los primeros 10\n",
    "display(Markdown(df.head(10).to_markdown()))"
   ]
  }
 ],
 "metadata": {
  "kernelspec": {
   "display_name": "genDB",
   "language": "python",
   "name": "python3"
  },
  "language_info": {
   "codemirror_mode": {
    "name": "ipython",
    "version": 3
   },
   "file_extension": ".py",
   "mimetype": "text/x-python",
   "name": "python",
   "nbconvert_exporter": "python",
   "pygments_lexer": "ipython3",
   "version": "3.11.5"
  }
 },
 "nbformat": 4,
 "nbformat_minor": 2
}
