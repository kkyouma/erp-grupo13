{
 "cells": [
  {
   "cell_type": "markdown",
   "metadata": {},
   "source": [
    "Librerias necesarias"
   ]
  },
  {
   "cell_type": "code",
   "execution_count": null,
   "metadata": {},
   "outputs": [],
   "source": [
    "import pandas as pd\n",
    "from faker import Faker\n",
    "from datetime import datetime, timedelta\n",
    "from IPython.display import display, Markdown"
   ]
  },
  {
   "cell_type": "markdown",
   "metadata": {},
   "source": [
    "# Generacion de base de datos para clientes\n",
    "\n"
   ]
  },
  {
   "cell_type": "code",
   "execution_count": null,
   "metadata": {},
   "outputs": [
    {
     "data": {
      "text/markdown": [
       "|    | Nombre                          | Ciudad    | Correo                  | Telefono        | Fecha de compras   |\n",
       "|---:|:--------------------------------|:----------|:------------------------|:----------------|:-------------------|\n",
       "|  0 | Marcela Valentina Fuentes Rojas | San Ramón | francisco30@example.org | +56 9 8137 6430 | 2023-07-07         |"
      ],
      "text/plain": [
       "<IPython.core.display.Markdown object>"
      ]
     },
     "metadata": {},
     "output_type": "display_data"
    }
   ],
   "source": [
    "fake = Faker('es_CL')\n",
    "\n",
    "# Establecer un rango realista para las fechas de compras\n",
    "fecha_actual = datetime.now()\n",
    "\n",
    "inicio_rango = fecha_actual - timedelta (days = 180)\n",
    "\n",
    "fecha_compra = fake.date_between_dates(date_start=inicio_rango, date_end=fecha_actual)\n",
    "\n",
    "def generar_cliente():\n",
    "  nombre = fake.name()\n",
    "  correo = fake.email()\n",
    "  telefono = fake.phone_number()\n",
    "  fecha = fecha_compra\n",
    "  ciudad = fake.city()\n",
    "\n",
    "  return {\"Nombre\": nombre, \"Ciudad\": ciudad, \"Correo\": correo, \"Telefono\": telefono, \"Fecha de compras\": fecha}\n",
    "\n",
    "cliente = generar_cliente()\n",
    "\n",
    "df = pd.DataFrame([cliente])\n",
    "\n",
    "display(Markdown(df.to_markdown()))"
   ]
  },
  {
   "cell_type": "markdown",
   "metadata": {},
   "source": [
    "# Generacion de base de datos para inventario"
   ]
  },
  {
   "cell_type": "code",
   "execution_count": null,
   "metadata": {},
   "outputs": [],
   "source": []
  }
 ],
 "metadata": {
  "kernelspec": {
   "display_name": "genDB",
   "language": "python",
   "name": "python3"
  },
  "language_info": {
   "codemirror_mode": {
    "name": "ipython",
    "version": 3
   },
   "file_extension": ".py",
   "mimetype": "text/x-python",
   "name": "python",
   "nbconvert_exporter": "python",
   "pygments_lexer": "ipython3",
   "version": "3.11.5"
  }
 },
 "nbformat": 4,
 "nbformat_minor": 2
}
