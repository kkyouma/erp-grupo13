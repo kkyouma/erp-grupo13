{
 "cells": [
  {
   "cell_type": "markdown",
   "metadata": {},
   "source": [
    "Librerias necesarias"
   ]
  },
  {
   "cell_type": "code",
   "execution_count": 13,
   "metadata": {},
   "outputs": [],
   "source": [
    "import pandas as pd\n",
    "import os \n",
    "import random\n",
    "from faker import Faker\n",
    "from datetime import datetime, timedelta\n",
    "from IPython.display import display, Markdown"
   ]
  },
  {
   "cell_type": "markdown",
   "metadata": {},
   "source": [
    "# Generacion de base de datos para clientes\n",
    "\n"
   ]
  },
  {
   "cell_type": "code",
   "execution_count": 15,
   "metadata": {},
   "outputs": [
    {
     "data": {
      "text/markdown": [
       "|    | Nombre                            | Ciudad               | Correo                      | Telefono        |\n",
       "|---:|:----------------------------------|:---------------------|:----------------------------|:----------------|\n",
       "|  0 | Joan Zúñiga Bravo                 | Calbuco              | esaez@example.org           | +56 600 670 333 |\n",
       "|  1 | Enzo Rodrigo Martínez Cruz        | Cabo de Hornos       | wvera@example.com           | +56 51 343 3015 |\n",
       "|  2 | Emmanuel Lagos-Troncoso           | San Rafael           | diazjuan@example.net        | +56 2 2999 7593 |\n",
       "|  3 | Martín Rodríguez Salinas          | Taltal               | gustavoletelier@example.org | +56 800 121 725 |\n",
       "|  4 | Loreto María Zamorano Vega        | Cauquenes            | bgonzalez@example.org       | +56 2 3564 1176 |\n",
       "|  5 | Angie Romero                      | San Juan de la Costa | rmontero@example.org        | +56 2 2229 2498 |\n",
       "|  6 | Angelina Ana Rodríguez Escobar    | Llaillay             | vcasanova@example.net       | +56 2 2713 1475 |\n",
       "|  7 | César Víctor Muñoz Saavedra       | San Clemente         | gonzalezfranco@example.org  | +56 9 8800 2176 |\n",
       "|  8 | Sergio Luis Cáceres Lobos         | Melipilla            | ceciliaortiz@example.org    | +56 800 440 135 |\n",
       "|  9 | David Carlos Riquelme Pacheco     | General Lagos        | dmoyano@example.com         | +56 2 3723 9383 |\n",
       "| 10 | Raquel Vergara Henríquez          | Puente Alto          | nunezjacqueline@example.com | +56 35 339 4038 |\n",
       "| 11 | Vicente Alfonso Morales Salas     | Cunco                | mariazambrano@example.com   | +56 9 6341 0956 |\n",
       "| 12 | Pascal Franchesca Catalán Ahumada | María Elena          | mario37@example.org         | +56 800 702 909 |\n",
       "| 13 | Nancy Maribel Leiva Quintana      | Calama               | marcelina97@example.com     | +56 72 296 5309 |\n",
       "| 14 | Juan Ayala Díaz                   | Alhué                | rosasepulveda@example.com   | +56 51 299 7304 |\n",
       "| 15 | Carmen Salazar García             | Diego de Almagro     | hectortapia@example.org     | +56 67 268 2556 |\n",
       "| 16 | Sebastián Cristian Cárcamo Campos | San Vicente          | arriagadaregina@example.com | +56 65 221 0105 |\n",
       "| 17 | Carmen Georgina Pinto Escobar     | Coihaique            | arnaldomartinez@example.net | +56 55 368 4542 |\n",
       "| 18 | Margarita Carrillo                | La Estrella          | jmorales@example.net        | +56 2 3846 9452 |\n",
       "| 19 | Aron Aros Pérez                   | Los Álamos           | ssanhueza@example.org       | +56 2 3287 8255 |"
      ],
      "text/plain": [
       "<IPython.core.display.Markdown object>"
      ]
     },
     "metadata": {},
     "output_type": "display_data"
    }
   ],
   "source": [
    "fake = Faker('es_CL')\n",
    "\n",
    "def generar_cliente():\n",
    "  nombre = fake.name()\n",
    "  correo = fake.email()\n",
    "  telefono = fake.phone_number()\n",
    "  ciudad = fake.city()\n",
    "\n",
    "  return {\"Nombre\": nombre, \"Ciudad\": ciudad, \"Correo\": correo, \"Telefono\": telefono}\n",
    "\n",
    "cantidad_clientes = 20\n",
    "\n",
    "cliente = [generar_cliente() for _ in range (cantidad_clientes)]\n",
    "\n",
    "df = pd.DataFrame(cliente)\n",
    "\n",
    "# Carpeta para almacenar las bases de datos generadas\n",
    "carpeta_database = 'database'\n",
    "\n",
    "# Crear una carpeta si esta no existe\n",
    "if not os.path.exists(carpeta_database):\n",
    "  os.makedirs(carpeta_database)\n",
    "\n",
    "# Path para guardar el archivo\n",
    "path_info_clientes = os.path.join(carpeta_database, 'info_clientes.csv')\n",
    "\n",
    "# Guardar el archivo\n",
    "df.to_csv(path_info_clientes)\n",
    "\n",
    "# Visualizar en markdown\n",
    "display(Markdown(df.to_markdown()))"
   ]
  },
  {
   "cell_type": "markdown",
   "metadata": {},
   "source": [
    "# Generacion de base de datos para inventario"
   ]
  },
  {
   "cell_type": "code",
   "execution_count": 12,
   "metadata": {},
   "outputs": [],
   "source": [
    "# Listas de tipos de productos y sabores\n",
    "tipos_productos = ['Torta', 'Queque', 'Brownie', 'Rosca', 'Dona']\n",
    "sabores = ['Chocolate', 'Frutilla', 'Vainilla', 'Caramelo', 'Nuez']"
   ]
  },
  {
   "cell_type": "code",
   "execution_count": 6,
   "metadata": {},
   "outputs": [
    {
     "data": {
      "text/markdown": [
       "|    | Nombre         | Descripcion            |   Precio |\n",
       "|---:|:---------------|:-----------------------|---------:|\n",
       "|  0 | maxime         | Rosca sabor Frutilla   |     1338 |\n",
       "|  1 | tempora        | Rosca sabor Caramelo   |     4414 |\n",
       "|  2 | odio           | Rosca sabor Vainilla   |     7185 |\n",
       "|  3 | quis           | Brownie sabor Caramelo |     2408 |\n",
       "|  4 | cum            | Rosca sabor Chocolate  |     6486 |\n",
       "|  5 | quod           | Torta sabor Nuez       |     3497 |\n",
       "|  6 | sunt           | Torta sabor Frutilla   |     1969 |\n",
       "|  7 | repellat       | Brownie sabor Caramelo |     9994 |\n",
       "|  8 | aut            | Torta sabor Vainilla   |     6000 |\n",
       "|  9 | repellendus    | Dona sabor Vainilla    |     6781 |\n",
       "| 10 | sequi          | Queque sabor Vainilla  |     7182 |\n",
       "| 11 | reiciendis     | Torta sabor Nuez       |     9697 |\n",
       "| 12 | ea             | Dona sabor Chocolate   |     2584 |\n",
       "| 13 | necessitatibus | Dona sabor Nuez        |     1010 |\n",
       "| 14 | voluptatem     | Dona sabor Vainilla    |     7872 |\n",
       "| 15 | laudantium     | Brownie sabor Frutilla |     5957 |\n",
       "| 16 | aspernatur     | Rosca sabor Frutilla   |     9171 |\n",
       "| 17 | perferendis    | Brownie sabor Nuez     |     4863 |\n",
       "| 18 | suscipit       | Rosca sabor Caramelo   |     7547 |\n",
       "| 19 | pariatur       | Torta sabor Caramelo   |     4234 |"
      ],
      "text/plain": [
       "<IPython.core.display.Markdown object>"
      ]
     },
     "metadata": {},
     "output_type": "display_data"
    }
   ],
   "source": [
    "def generar_producto():\n",
    "  nombre_producto = fake.unique.word()\n",
    "  precio = fake.random_int(min=1000, max=10000)\n",
    "  tipo_producto = random.choice(tipos_productos)\n",
    "  sabor = random.choice(sabores)\n",
    "  descripcion = f\"{tipo_producto} sabor {sabor}\"\n",
    "\n",
    "  return {\"Nombre\": nombre_producto, \"Descripcion\": descripcion,\"Precio\": precio}\n",
    "\n",
    "num_productos = 20\n",
    "\n",
    "producto = [generar_producto() for _ in range (num_productos)]\n",
    "\n",
    "df = pd.DataFrame(producto)\n",
    "\n",
    "display(Markdown(df.to_markdown()))"
   ]
  },
  {
   "cell_type": "markdown",
   "metadata": {},
   "source": [
    "# Generacion de base de datos para ventas"
   ]
  },
  {
   "cell_type": "markdown",
   "metadata": {},
   "source": [
    "## Leer base de datos de clientes\n",
    "Esto es un paso necesario para porder asociar los clientes ya generados y de los cuales tenemos informacion, con los productos en inventario."
   ]
  },
  {
   "cell_type": "code",
   "execution_count": null,
   "metadata": {},
   "outputs": [],
   "source": [
    "df_clientes = pd.read_csv('info_clientes.csv')\n",
    "\n",
    "nombres_clientes = df_clientes['Nombre']"
   ]
  },
  {
   "cell_type": "code",
   "execution_count": null,
   "metadata": {},
   "outputs": [],
   "source": [
    "# Establecer un rango realista para las fechas de compras\n",
    "fecha_actual = datetime.now()\n",
    "\n",
    "inicio_rango = fecha_actual - timedelta (days = 180)"
   ]
  },
  {
   "cell_type": "markdown",
   "metadata": {},
   "source": [
    "Se genera una tabla que contenga una fecha realista para la demanda del producto, un nombre de cliente extraido de la base de datos y un tipo de producto que desee. Cabe destacar que de esta forma y usando la funcion 'random.choice' es que puede existir clientes que demanden mas de un tipo de producto, lo cual es completamente valido y cumple con una situacion realista. "
   ]
  },
  {
   "cell_type": "code",
   "execution_count": 10,
   "metadata": {},
   "outputs": [
    {
     "data": {
      "text/markdown": [
       "|    | Fecha      | Nombre                           |\n",
       "|---:|:-----------|:---------------------------------|\n",
       "|  0 | 2023-06-14 | Santiago Cubillos Piña           |\n",
       "|  1 | 2023-10-25 | Héctor Pedro Miranda Abarca      |\n",
       "|  2 | 2023-08-13 | Irene Laura Sepúlveda Delgado    |\n",
       "|  3 | 2023-10-26 | Margarita Francisca Gómez Muñoz  |\n",
       "|  4 | 2023-11-16 | Laura Jacqueline Roa Vera        |\n",
       "|  5 | 2023-09-13 | María Eva Castillo Ruiz          |\n",
       "|  6 | 2023-07-07 | Ignacia Anahí Parraguez Martínez |\n",
       "|  7 | 2023-06-05 | Rafaella Doris Torres Manríquez  |\n",
       "|  8 | 2023-06-15 | Irene Laura Sepúlveda Delgado    |\n",
       "|  9 | 2023-07-04 | Martín Vidal López               |\n",
       "| 10 | 2023-11-12 | Raquel Martínez Romero           |\n",
       "| 11 | 2023-09-14 | Francisco Gustavo Jofré Gajardo  |\n",
       "| 12 | 2023-09-04 | Margarita Francisca Gómez Muñoz  |\n",
       "| 13 | 2023-11-07 | Ricardo Gabriel González Ávila   |\n",
       "| 14 | 2023-08-16 | Héctor Pedro Miranda Abarca      |\n",
       "| 15 | 2023-06-14 | Francisco Gustavo Jofré Gajardo  |\n",
       "| 16 | 2023-10-08 | Héctor Pedro Miranda Abarca      |\n",
       "| 17 | 2023-10-14 | Héctor Pedro Miranda Abarca      |\n",
       "| 18 | 2023-10-25 | Ricardo Gabriel González Ávila   |\n",
       "| 19 | 2023-11-16 | Rosario Leyton Pinto             |"
      ],
      "text/plain": [
       "<IPython.core.display.Markdown object>"
      ]
     },
     "metadata": {},
     "output_type": "display_data"
    }
   ],
   "source": [
    "def generar_demanda():\n",
    "  fecha = fake.date_between_dates(date_start=inicio_rango, date_end=fecha_actual)\n",
    "  nombre_cliente = random.choice(nombres_clientes)\n",
    "\n",
    "  return {\"Fecha\": fecha, \"Nombre\": nombre_cliente, }\n",
    "\n",
    "num_demanda_clientes = 20\n",
    "\n",
    "demanda = [generar_demanda() for _ in range (num_demanda_clientes)]\n",
    "\n",
    "df = pd.DataFrame(demanda)\n",
    "\n",
    "display(Markdown(df.to_markdown()))"
   ]
  }
 ],
 "metadata": {
  "kernelspec": {
   "display_name": "genDB",
   "language": "python",
   "name": "python3"
  },
  "language_info": {
   "codemirror_mode": {
    "name": "ipython",
    "version": 3
   },
   "file_extension": ".py",
   "mimetype": "text/x-python",
   "name": "python",
   "nbconvert_exporter": "python",
   "pygments_lexer": "ipython3",
   "version": "3.11.5"
  }
 },
 "nbformat": 4,
 "nbformat_minor": 2
}
