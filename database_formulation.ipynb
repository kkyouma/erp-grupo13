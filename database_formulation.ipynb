{
 "cells": [
  {
   "cell_type": "markdown",
   "metadata": {},
   "source": [
    "Librerias necesarias"
   ]
  },
  {
   "cell_type": "code",
   "execution_count": 333,
   "metadata": {},
   "outputs": [],
   "source": [
    "import pandas as pd\n",
    "import os \n",
    "import random\n",
    "import uuid\n",
    "import string\n",
    "from faker import Faker\n",
    "from datetime import datetime, timedelta\n",
    "from IPython.display import display, Markdown # Libreria unicamente para visualizar datos markdown en jupyter"
   ]
  },
  {
   "cell_type": "markdown",
   "metadata": {},
   "source": [
    "Es necesario definir donde se almacenaran las bases de datos generadas para mantener un orden"
   ]
  },
  {
   "cell_type": "code",
   "execution_count": 334,
   "metadata": {},
   "outputs": [],
   "source": [
    "# Carpeta para almacenar las bases de datos generadas\n",
    "carpeta_database = 'database'\n",
    "\n",
    "# Crear una carpeta si esta no existe\n",
    "if not os.path.exists(carpeta_database):\n",
    "  os.makedirs(carpeta_database)\n",
    "\n",
    "# Path para guardar el archivo\n",
    "path_info_clientes = os.path.join(carpeta_database, 'info_clientes.csv')\n",
    "path_inventario = os.path.join(carpeta_database, 'inventario.csv')\n",
    "path_demanda = os.path.join(carpeta_database, 'demanda.csv')"
   ]
  },
  {
   "cell_type": "markdown",
   "metadata": {},
   "source": [
    "# Generacion de base de datos para clientes\n",
    "\n"
   ]
  },
  {
   "cell_type": "code",
   "execution_count": 335,
   "metadata": {},
   "outputs": [
    {
     "data": {
      "text/markdown": [
       "|    | Nombre                             | Ciudad      | Correo                      | Telefono        |\n",
       "|---:|:-----------------------------------|:------------|:----------------------------|:----------------|\n",
       "|  0 | Anahí Valentina Catalán Rojas      | San Rosendo | jennifer36@example.com      | +56 2 3746 1085 |\n",
       "|  1 | Carlos Alexis Astudillo Núñez      | Ninhue      | evergara@example.net        | +56 600 415 731 |\n",
       "|  2 | María Vivanco Troncoso             | Pencahue    | wbustamante@example.org     | +56 9 5469 8316 |\n",
       "|  3 | Juliana Alvarado González          | Ercilla     | robertoalvarado@example.org | +56 65 359 7819 |\n",
       "|  4 | Aracely Agustina Toledo Villalobos | Tiltil      | waldodiaz@example.net       | +56 2 3792 6605 |\n",
       "|  5 | Bruno Mellado                      | Loncoche    | veasaida@example.org        | +56 67 215 3149 |\n",
       "|  6 | Marco Maximiliano Ahumada Troncoso | Macul       | sotocatalina@example.org    | +56 44 230 5266 |\n",
       "|  7 | Sebastián Álvaro Estrada Arroyo    | Colchane    | uandrade@example.net        | +56 55 389 0357 |\n",
       "|  8 | Cristopher Víctor Acuña Abarca     | Pichidegua  | fuentespaulo@example.org    | +56 33 258 3918 |\n",
       "|  9 | Juan Monsalve García               | Talca       | zuritarafael@example.net    | +56 34 354 8305 |"
      ],
      "text/plain": [
       "<IPython.core.display.Markdown object>"
      ]
     },
     "metadata": {},
     "output_type": "display_data"
    }
   ],
   "source": [
    "fake = Faker('es_CL')\n",
    "\n",
    "def generar_cliente():\n",
    "  \n",
    "  nombre = fake.name()\n",
    "  correo = fake.email()\n",
    "  telefono = fake.phone_number()\n",
    "  ciudad = fake.city()\n",
    "\n",
    "  return {\"Nombre\": nombre, \"Ciudad\": ciudad, \"Correo\": correo, \"Telefono\": telefono}\n",
    "\n",
    "cantidad_clientes = 10\n",
    "\n",
    "cliente = [generar_cliente() for _ in range (cantidad_clientes)]\n",
    "\n",
    "df = pd.DataFrame(cliente)\n",
    "\n",
    "# Guardar el archivo\n",
    "df.to_csv(path_info_clientes)\n",
    "\n",
    "# Visualizar en markdown\n",
    "display(Markdown(df.to_markdown()))"
   ]
  },
  {
   "cell_type": "markdown",
   "metadata": {},
   "source": [
    "# Generacion de base de datos para inventario"
   ]
  },
  {
   "cell_type": "code",
   "execution_count": 336,
   "metadata": {},
   "outputs": [],
   "source": [
    "# Listas de tipos de productos y sabores\n",
    "tipos_productos = ['Torta', 'Queque', 'Brownie', 'Rosca', 'Dona']\n",
    "sabores = ['Chocolate', 'Frutilla', 'Vainilla', 'Caramelo', 'Nuez', 'Mora', 'Maracuya', 'Limon']\n",
    "tamaños = ['Individual', 'Pequeño', 'Mediano', 'Grande', 'Extra grande']\n",
    "rellenos = ['Manjar', 'Dulce de leche', 'Crema pastelera', 'Crema de chocolate', 'Crema de frutilla']\n",
    "cubiertas = ['Mani', 'Almendras', 'Chocolate negro', 'Chocolate blanco', 'Merengue', 'Crema', 'Nuez']\n",
    "provedores = ['Panadería Fina & Co.', 'Dolce Gusto S.R.L.', 'Repostería Selecta']"
   ]
  },
  {
   "cell_type": "markdown",
   "metadata": {},
   "source": [
    "## Genera un ID unico para cada producto segun su tipo"
   ]
  },
  {
   "cell_type": "code",
   "execution_count": 337,
   "metadata": {},
   "outputs": [],
   "source": [
    "\n",
    "conteo_por_prefijo = {}\n",
    "def generar_codigo_producto(tipos_producto):\n",
    "    # Obtén los tres primeros caracteres de la descripción\n",
    "    prefijo = tipos_producto[:3].upper()\n",
    "\n",
    "    if prefijo not in conteo_por_prefijo:\n",
    "        conteo_por_prefijo[prefijo] = 1\n",
    "    else:\n",
    "        conteo_por_prefijo[prefijo] += 1\n",
    "\n",
    "    codigo_str = str(conteo_por_prefijo[prefijo]).zfill(4)\n",
    "\n",
    "    return f\"{prefijo}{codigo_str}\"\n"
   ]
  },
  {
   "cell_type": "code",
   "execution_count": 338,
   "metadata": {},
   "outputs": [
    {
     "data": {
      "text/markdown": [
       "|    | Tipo de producto   | ID Producto   | Descripcion                                                                          |   Precio de venta | Proveedor            |\n",
       "|---:|:-------------------|:--------------|:-------------------------------------------------------------------------------------|------------------:|:---------------------|\n",
       "|  0 | Brownie            | BRO0001       | Brownie Individual sabor Frutilla relleno de Dulce de leche y cubierto de Nuez       |              6047 | Panadería Fina & Co. |\n",
       "|  1 | Queque             | QUE0001       | Queque Individual sabor Frutilla relleno de Dulce de leche y cubierto de Mani        |              7377 | Repostería Selecta   |\n",
       "|  2 | Queque             | QUE0002       | Queque Extra grande sabor Mora relleno de Crema de frutilla y cubierto de Almendras  |              9488 | Panadería Fina & Co. |\n",
       "|  3 | Queque             | QUE0003       | Queque Grande sabor Vainilla relleno de Crema pastelera y cubierto de Mani           |              6484 | Panadería Fina & Co. |\n",
       "|  4 | Queque             | QUE0004       | Queque Grande sabor Chocolate relleno de Crema de frutilla y cubierto de Crema       |              4733 | Dolce Gusto S.R.L.   |\n",
       "|  5 | Brownie            | BRO0002       | Brownie Pequeño sabor Nuez relleno de Crema de chocolate y cubierto de Crema         |              5336 | Repostería Selecta   |\n",
       "|  6 | Dona               | DON0001       | Dona Pequeño sabor Chocolate relleno de Crema de frutilla y cubierto de Nuez         |              8830 | Repostería Selecta   |\n",
       "|  7 | Torta              | TOR0001       | Torta Extra grande sabor Mora relleno de Crema de chocolate y cubierto de Almendras  |              8681 | Dolce Gusto S.R.L.   |\n",
       "|  8 | Rosca              | ROS0001       | Rosca Grande sabor Vainilla relleno de Dulce de leche y cubierto de Chocolate blanco |              8629 | Dolce Gusto S.R.L.   |\n",
       "|  9 | Queque             | QUE0005       | Queque Mediano sabor Mora relleno de Dulce de leche y cubierto de Merengue           |              3480 | Dolce Gusto S.R.L.   |"
      ],
      "text/plain": [
       "<IPython.core.display.Markdown object>"
      ]
     },
     "metadata": {},
     "output_type": "display_data"
    }
   ],
   "source": [
    "\n",
    "def generar_descripcion():\n",
    "  sabor = random.choice(sabores)\n",
    "  tamaño = random.choice(tamaños)\n",
    "  cubierta = random.choice(cubiertas)\n",
    "  relleno = random.choice(rellenos)\n",
    "\n",
    "  return sabor, tamaño, cubierta, relleno\n",
    "\n",
    "\n",
    "def generar_producto():\n",
    "  tipo_producto = random.choice(tipos_productos)\n",
    "  sabor, tamaño, cubierta, relleno = generar_descripcion()\n",
    "  descripcion = f\"{tipo_producto} {tamaño} sabor {sabor} relleno de {relleno} y cubierto de {cubierta}\"\n",
    "  id_producto = generar_codigo_producto(tipo_producto)\n",
    "  precio = fake.random_int(min=1000, max=10000)\n",
    "  provedor = random.choice(provedores)\n",
    "\n",
    "  return {\"Tipo de producto\": tipo_producto, \"ID Producto\": id_producto, \"Descripcion\": descripcion,\"Precio de venta\": precio, \"Proveedor\": provedor}\n",
    "\n",
    "num_productos = 10\n",
    "\n",
    "producto = [generar_producto() for _ in range (num_productos)]\n",
    "\n",
    "df = pd.DataFrame(producto)\n",
    "\n",
    "#Guardar el archivo\n",
    "df.to_csv(path_inventario)\n",
    "\n",
    "# Visualizar en markdown\n",
    "display(Markdown(df.to_markdown()))"
   ]
  },
  {
   "cell_type": "markdown",
   "metadata": {},
   "source": [
    "# Generacion de base de datos para ventas"
   ]
  },
  {
   "cell_type": "markdown",
   "metadata": {},
   "source": [
    "## Leer base de datos de clientes\n",
    "Esto es un paso necesario para porder asociar los clientes ya generados y de los cuales tenemos informacion, con los productos en inventario."
   ]
  },
  {
   "cell_type": "code",
   "execution_count": 339,
   "metadata": {},
   "outputs": [],
   "source": [
    "df_clientes = pd.read_csv(path_info_clientes)\n",
    "\n",
    "nombres_clientes = df_clientes['Nombre']\n"
   ]
  },
  {
   "cell_type": "code",
   "execution_count": 340,
   "metadata": {},
   "outputs": [],
   "source": [
    "df_productos = pd.read_csv(path_inventario)\n",
    "\n",
    "fila_aleatoria = df_productos.sample(1)\n",
    "\n",
    "tipo_producto = fila_aleatoria['Tipo de producto'].values[0]\n",
    "codigo_producto = fila_aleatoria['ID Producto'].values[0]"
   ]
  },
  {
   "cell_type": "code",
   "execution_count": 341,
   "metadata": {},
   "outputs": [],
   "source": [
    "# Establecer un rango realista para las fechas de compras\n",
    "fecha_actual = datetime.now()\n",
    "\n",
    "inicio_rango = fecha_actual - timedelta (days = 180)"
   ]
  },
  {
   "cell_type": "markdown",
   "metadata": {},
   "source": [
    "Se genera una tabla que contenga una fecha realista para la demanda del producto, un nombre de cliente extraido de la base de datos y un tipo de producto que desee. Cabe destacar que de esta forma y usando la funcion 'random.choice' es que puede existir clientes que demanden mas de un tipo de producto, lo cual es completamente valido y cumple con una situacion realista. "
   ]
  },
  {
   "cell_type": "code",
   "execution_count": 342,
   "metadata": {},
   "outputs": [
    {
     "data": {
      "text/markdown": [
       "|    | Fecha      | Nombre                             | Producto demandado   | ID Producto   | ID Compra   |\n",
       "|---:|:-----------|:-----------------------------------|:---------------------|:--------------|:------------|\n",
       "|  0 | 2023-11-17 | Aracely Agustina Toledo Villalobos | Rosca                | ROS0001       | CABE17      |\n",
       "|  1 | 2023-09-22 | Carlos Alexis Astudillo Núñez      | Queque               | QUE0004       | 639AAB      |\n",
       "|  2 | 2023-10-14 | Juliana Alvarado González          | Brownie              | BRO0001       | 709C38      |\n",
       "|  3 | 2023-09-25 | Sebastián Álvaro Estrada Arroyo    | Queque               | QUE0002       | 1C8119      |\n",
       "|  4 | 2023-11-24 | Bruno Mellado                      | Queque               | QUE0004       | ECB4FA      |\n",
       "|  5 | 2023-08-05 | Juliana Alvarado González          | Queque               | QUE0003       | C30A3B      |\n",
       "|  6 | 2023-06-12 | Carlos Alexis Astudillo Núñez      | Brownie              | BRO0002       | B770C0      |\n",
       "|  7 | 2023-11-01 | Aracely Agustina Toledo Villalobos | Torta                | TOR0001       | C44996      |\n",
       "|  8 | 2023-10-28 | María Vivanco Troncoso             | Rosca                | ROS0001       | D647FC      |\n",
       "|  9 | 2023-06-13 | Juan Monsalve García               | Brownie              | BRO0001       | 675A8B      |"
      ],
      "text/plain": [
       "<IPython.core.display.Markdown object>"
      ]
     },
     "metadata": {},
     "output_type": "display_data"
    }
   ],
   "source": [
    "def generar_demanda():\n",
    "  fecha = fake.date_between_dates(date_start=inicio_rango, date_end=fecha_actual)\n",
    "  nombre_cliente = random.choice(nombres_clientes)\n",
    "  \n",
    "  # Selecciona una fila aleatoria del DataFrame de productos\n",
    "  producto = df_productos.sample(1).iloc[0]\n",
    "  \n",
    "  tipo_producto = producto['Tipo de producto']\n",
    "  codigo_producto = producto['ID Producto']\n",
    "\n",
    "  id_compra = uuid.uuid4().hex[:7].upper()\n",
    "\n",
    "  return {\"Fecha\": fecha, \"Nombre\": nombre_cliente, \"Producto demandado\": tipo_producto, \"ID Producto\": codigo_producto, \"ID Compra\": id_compra}\n",
    "\n",
    "num_demanda_clientes = 10\n",
    "\n",
    "demanda = [generar_demanda() for _ in range (num_demanda_clientes)]\n",
    "\n",
    "df = pd.DataFrame(demanda)\n",
    "\n",
    "# Guardar el archivo\n",
    "df.to_csv(path_demanda)\n",
    "\n",
    "# Visualizar en markdown\n",
    "display(Markdown(df.to_markdown()))"
   ]
  }
 ],
 "metadata": {
  "kernelspec": {
   "display_name": "genDB",
   "language": "python",
   "name": "python3"
  },
  "language_info": {
   "codemirror_mode": {
    "name": "ipython",
    "version": 3
   },
   "file_extension": ".py",
   "mimetype": "text/x-python",
   "name": "python",
   "nbconvert_exporter": "python",
   "pygments_lexer": "ipython3",
   "version": "3.11.5"
  }
 },
 "nbformat": 4,
 "nbformat_minor": 2
}
