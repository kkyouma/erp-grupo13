{
 "cells": [
  {
   "cell_type": "markdown",
   "metadata": {},
   "source": [
    "Librerias necesarias"
   ]
  },
  {
   "cell_type": "code",
   "execution_count": 51,
   "metadata": {},
   "outputs": [],
   "source": [
    "import pandas as pd\n",
    "import os \n",
    "import random\n",
    "import uuid\n",
    "import string\n",
    "from faker import Faker\n",
    "from datetime import datetime, timedelta\n",
    "from IPython.display import display, Markdown # Libreria unicamente para visualizar datos markdown en jupyter"
   ]
  },
  {
   "cell_type": "markdown",
   "metadata": {},
   "source": [
    "Es necesario definir donde se almacenaran las bases de datos generadas para mantener un orden"
   ]
  },
  {
   "cell_type": "code",
   "execution_count": 52,
   "metadata": {},
   "outputs": [],
   "source": [
    "# Carpeta para almacenar las bases de datos generadas\n",
    "carpeta_database = 'database'\n",
    "\n",
    "# Crear una carpeta si esta no existe\n",
    "if not os.path.exists(carpeta_database):\n",
    "  os.makedirs(carpeta_database)\n",
    "\n",
    "# Path para guardar el archivo\n",
    "path_info_clientes = os.path.join(carpeta_database, 'info_clientes.csv')\n",
    "path_inventario = os.path.join(carpeta_database, 'inventario.csv')\n",
    "path_demanda = os.path.join(carpeta_database, 'demanda.csv')"
   ]
  },
  {
   "cell_type": "markdown",
   "metadata": {},
   "source": [
    "# Generacion de base de datos para clientes\n",
    "\n"
   ]
  },
  {
   "cell_type": "code",
   "execution_count": 53,
   "metadata": {},
   "outputs": [
    {
     "data": {
      "text/markdown": [
       "|    | Nombre                             | Ciudad        | Correo                          | Telefono        |\n",
       "|---:|:-----------------------------------|:--------------|:--------------------------------|:----------------|\n",
       "|  0 | Matías Eduardo Pinto Oyarzún       | Cunco         | munozeduardo@example.org        | +56 63 261 4786 |\n",
       "|  1 | Elba Luisa Silva Rojas             | Puchuncaví    | allendesedelmira@example.org    | +56 2 3398 6581 |\n",
       "|  2 | Pascuala Cárdenas Vicencio         | Hualañé       | fabiola90@example.org           | +56 2 3341 0805 |\n",
       "|  3 | Juan Ronny Soto Gutiérrez          | Calera        | gomezbenjamin@example.org       | +56 2 3309 6761 |\n",
       "|  4 | Arturo Cárcamo                     | San Esteban   | camilabobadilla@example.org     | +56 2 3694 9679 |\n",
       "|  5 | Víctor Espinoza Pinto              | Ancud         | nelly02@example.org             | +56 9 3492 6535 |\n",
       "|  6 | Alexis Saavedra                    | Iquique       | hermosillavalentina@example.com | +56 600 591 836 |\n",
       "|  7 | Daniela Gallardo Riquelme          | Concepción    | benjamin96@example.com          | +56 2 3868 1218 |\n",
       "|  8 | Gonzalo Jean Díaz López            | Penco         | jvelasquez@example.net          | +56 2 2781 0688 |\n",
       "|  9 | Cecilia Fuentealba Quezada         | Quintero      | pascualagaldames@example.org    | +56 65 389 4687 |\n",
       "| 10 | Manuel Diego Troncoso Castillo     | Puerto Montt  | waraya@example.com              | +56 67 362 9768 |\n",
       "| 11 | Claudio Sebastián Quintana Alvarez | Chépica       | rene84@example.com              | +56 72 226 7542 |\n",
       "| 12 | Constanza Marianela Rojas Díaz     | Constitución  | kramirez@example.com            | +56 600 122 194 |\n",
       "| 13 | Estrella Patricia Cavieres Aliaga  | Arica         | vguzman@example.com             | +56 9 6501 7604 |\n",
       "| 14 | Camila Sánchez Canales             | Cabrero       | jose22@example.com              | +56 52 257 0798 |\n",
       "| 15 | Juana Graciela Sánchez Salazar     | Melipilla     | gallardocamila@example.net      | +56 600 235 569 |\n",
       "| 16 | Cristian Víctor Armijo Mamani      | Quemchi       | ebravo@example.net              | +56 9 5794 0315 |\n",
       "| 17 | Miguel Simón Carrillo Mendoza      | Laguna Blanca | milton69@example.com            | +56 33 256 8197 |\n",
       "| 18 | Mario Gutiérrez                    | General Lagos | salinasangelica@example.com     | +56 58 316 8836 |\n",
       "| 19 | Victoria Angélica Acuña Sánchez    | Laja          | opozo@example.com               | +56 73 392 3444 |"
      ],
      "text/plain": [
       "<IPython.core.display.Markdown object>"
      ]
     },
     "metadata": {},
     "output_type": "display_data"
    }
   ],
   "source": [
    "fake = Faker('es_CL')\n",
    "\n",
    "def generar_cliente():\n",
    "  nombre = fake.name()\n",
    "  correo = fake.email()\n",
    "  telefono = fake.phone_number()\n",
    "  ciudad = fake.city()\n",
    "\n",
    "  return {\"Nombre\": nombre, \"Ciudad\": ciudad, \"Correo\": correo, \"Telefono\": telefono}\n",
    "\n",
    "cantidad_clientes = 20\n",
    "\n",
    "cliente = [generar_cliente() for _ in range (cantidad_clientes)]\n",
    "\n",
    "df = pd.DataFrame(cliente)\n",
    "\n",
    "# Guardar el archivo\n",
    "df.to_csv(path_info_clientes)\n",
    "\n",
    "# Visualizar en markdown\n",
    "display(Markdown(df.to_markdown()))"
   ]
  },
  {
   "cell_type": "markdown",
   "metadata": {},
   "source": [
    "# Generacion de base de datos para inventario"
   ]
  },
  {
   "cell_type": "code",
   "execution_count": 54,
   "metadata": {},
   "outputs": [],
   "source": [
    "# Listas de tipos de productos y sabores\n",
    "tipos_productos = ['Torta', 'Queque', 'Brownie', 'Rosca', 'Dona']\n",
    "sabores = ['Chocolate', 'Frutilla', 'Vainilla', 'Caramelo', 'Nuez']\n",
    "tamaños = ['S', 'M', 'L', 'XL', 'XXL']\n",
    "provedores = ['A', 'B', 'C']"
   ]
  },
  {
   "cell_type": "code",
   "execution_count": 55,
   "metadata": {},
   "outputs": [
    {
     "data": {
      "text/markdown": [
       "|    | Nombre      | Codigo   | Descripcion                       |   Precio | Proveedor   |\n",
       "|---:|:------------|:---------|:----------------------------------|---------:|:------------|\n",
       "|  0 | fugit       | BROHVG7  | Brownie sabor Caramelo tamaño XL  |     6999 | B           |\n",
       "|  1 | temporibus  | ROSHSAG  | Rosca sabor Vainilla tamaño L     |     7521 | A           |\n",
       "|  2 | expedita    | TORRH14  | Torta sabor Chocolate tamaño L    |     4376 | B           |\n",
       "|  3 | ratione     | BROAQVI  | Brownie sabor Vainilla tamaño XL  |     4114 | B           |\n",
       "|  4 | accusantium | TORHIMV  | Torta sabor Frutilla tamaño XXL   |     2213 | B           |\n",
       "|  5 | iste        | DONGTX7  | Dona sabor Caramelo tamaño S      |     1249 | A           |\n",
       "|  6 | quos        | QUE1SKR  | Queque sabor Vainilla tamaño L    |     2803 | C           |\n",
       "|  7 | architecto  | BROR6AX  | Brownie sabor Nuez tamaño XL      |     8151 | C           |\n",
       "|  8 | occaecati   | DONUR33  | Dona sabor Nuez tamaño XXL        |     1825 | A           |\n",
       "|  9 | ex          | QUEUIVR  | Queque sabor Vainilla tamaño S    |     4966 | C           |\n",
       "| 10 | consectetur | BRO5XYA  | Brownie sabor Chocolate tamaño M  |     5221 | C           |\n",
       "| 11 | eveniet     | DONAUZ9  | Dona sabor Frutilla tamaño L      |     8822 | B           |\n",
       "| 12 | sed         | TORZZ8I  | Torta sabor Chocolate tamaño XXL  |     1693 | A           |\n",
       "| 13 | asperiores  | DONALAY  | Dona sabor Frutilla tamaño M      |     5284 | A           |\n",
       "| 14 | et          | TOREVX2  | Torta sabor Frutilla tamaño XL    |     1238 | A           |\n",
       "| 15 | facere      | ROSEAJN  | Rosca sabor Vainilla tamaño L     |     9584 | A           |\n",
       "| 16 | odio        | DONPTV0  | Dona sabor Chocolate tamaño L     |     2650 | B           |\n",
       "| 17 | minus       | BRO2TQ3  | Brownie sabor Frutilla tamaño XXL |     5977 | A           |\n",
       "| 18 | corporis    | BROOR47  | Brownie sabor Chocolate tamaño S  |     1239 | B           |\n",
       "| 19 | quaerat     | TORE304  | Torta sabor Vainilla tamaño S     |     3714 | B           |"
      ],
      "text/plain": [
       "<IPython.core.display.Markdown object>"
      ]
     },
     "metadata": {},
     "output_type": "display_data"
    }
   ],
   "source": [
    "def generar_codigo_producto(descripcion, longitud):\n",
    "  caracteres = string.ascii_uppercase + string.digits\n",
    "  codigo = ''.join(random.choice(caracteres) for _ in range(longitud))\n",
    "  return descripcion[:3].upper() + codigo\n",
    "\n",
    "def generar_descripcion():\n",
    "  sabor = random.choice(sabores)\n",
    "  tamaño = random.choice(tamaños)\n",
    "  tipo_producto = random.choice(tipos_productos)\n",
    "\n",
    "  return sabor, tamaño, tipo_producto\n",
    "\n",
    "def generar_producto():\n",
    "  nombre_producto = fake.unique.word()\n",
    "  sabor, tamaño, tipo_producto = generar_descripcion()\n",
    "  descripcion = f\"{tipo_producto} sabor {sabor} tamaño {tamaño}\"\n",
    "  codigo = generar_codigo_producto(descripcion, 5)\n",
    "  precio = fake.random_int(min=1000, max=10000)\n",
    "  provedor = random.choice(provedores)\n",
    "\n",
    "  return {\"Nombre\": nombre_producto, \"Codigo\": codigo, \"Descripcion\": descripcion,\"Precio\": precio, \"Proveedor\": provedor}\n",
    "\n",
    "num_productos = 20\n",
    "\n",
    "producto = [generar_producto() for _ in range (num_productos)]\n",
    "\n",
    "df = pd.DataFrame(producto)\n",
    "\n",
    "#Guardar el archivo\n",
    "df.to_csv(path_inventario)\n",
    "\n",
    "# Visualizar en markdown\n",
    "display(Markdown(df.to_markdown()))"
   ]
  },
  {
   "cell_type": "markdown",
   "metadata": {},
   "source": [
    "# Generacion de base de datos para ventas"
   ]
  },
  {
   "cell_type": "markdown",
   "metadata": {},
   "source": [
    "## Leer base de datos de clientes\n",
    "Esto es un paso necesario para porder asociar los clientes ya generados y de los cuales tenemos informacion, con los productos en inventario."
   ]
  },
  {
   "cell_type": "code",
   "execution_count": 56,
   "metadata": {},
   "outputs": [],
   "source": [
    "df_clientes = pd.read_csv(path_info_clientes)\n",
    "\n",
    "nombres_clientes = df_clientes['Nombre']"
   ]
  },
  {
   "cell_type": "code",
   "execution_count": 57,
   "metadata": {},
   "outputs": [],
   "source": [
    "df_productos = pd.read_csv(path_inventario)\n",
    "\n",
    "tipos_productos = df_productos['Descripcion']"
   ]
  },
  {
   "cell_type": "code",
   "execution_count": 58,
   "metadata": {},
   "outputs": [],
   "source": [
    "# Establecer un rango realista para las fechas de compras\n",
    "fecha_actual = datetime.now()\n",
    "\n",
    "inicio_rango = fecha_actual - timedelta (days = 180)"
   ]
  },
  {
   "cell_type": "markdown",
   "metadata": {},
   "source": [
    "Se genera una tabla que contenga una fecha realista para la demanda del producto, un nombre de cliente extraido de la base de datos y un tipo de producto que desee. Cabe destacar que de esta forma y usando la funcion 'random.choice' es que puede existir clientes que demanden mas de un tipo de producto, lo cual es completamente valido y cumple con una situacion realista. "
   ]
  },
  {
   "cell_type": "code",
   "execution_count": 59,
   "metadata": {},
   "outputs": [
    {
     "data": {
      "text/markdown": [
       "|    | Fecha      | Nombre                             | Producto demandado                |\n",
       "|---:|:-----------|:-----------------------------------|:----------------------------------|\n",
       "|  0 | 2023-10-21 | Miguel Simón Carrillo Mendoza      | Torta sabor Chocolate tamaño XXL  |\n",
       "|  1 | 2023-09-02 | Estrella Patricia Cavieres Aliaga  | Brownie sabor Chocolate tamaño S  |\n",
       "|  2 | 2023-11-06 | Juana Graciela Sánchez Salazar     | Torta sabor Vainilla tamaño S     |\n",
       "|  3 | 2023-06-29 | Claudio Sebastián Quintana Alvarez | Torta sabor Chocolate tamaño L    |\n",
       "|  4 | 2023-10-02 | Manuel Diego Troncoso Castillo     | Torta sabor Vainilla tamaño S     |\n",
       "|  5 | 2023-10-02 | Arturo Cárcamo                     | Rosca sabor Vainilla tamaño L     |\n",
       "|  6 | 2023-09-07 | Miguel Simón Carrillo Mendoza      | Brownie sabor Frutilla tamaño XXL |\n",
       "|  7 | 2023-10-27 | Manuel Diego Troncoso Castillo     | Dona sabor Frutilla tamaño L      |\n",
       "|  8 | 2023-06-19 | Daniela Gallardo Riquelme          | Dona sabor Chocolate tamaño L     |\n",
       "|  9 | 2023-09-05 | Cecilia Fuentealba Quezada         | Dona sabor Caramelo tamaño S      |\n",
       "| 10 | 2023-10-27 | Miguel Simón Carrillo Mendoza      | Torta sabor Frutilla tamaño XL    |\n",
       "| 11 | 2023-08-28 | Constanza Marianela Rojas Díaz     | Torta sabor Vainilla tamaño S     |\n",
       "| 12 | 2023-06-03 | Cristian Víctor Armijo Mamani      | Torta sabor Chocolate tamaño XXL  |\n",
       "| 13 | 2023-09-04 | Claudio Sebastián Quintana Alvarez | Brownie sabor Frutilla tamaño XXL |\n",
       "| 14 | 2023-07-09 | Víctor Espinoza Pinto              | Brownie sabor Vainilla tamaño XL  |\n",
       "| 15 | 2023-10-30 | Daniela Gallardo Riquelme          | Brownie sabor Chocolate tamaño M  |\n",
       "| 16 | 2023-08-13 | Constanza Marianela Rojas Díaz     | Torta sabor Chocolate tamaño XXL  |\n",
       "| 17 | 2023-06-22 | Elba Luisa Silva Rojas             | Torta sabor Chocolate tamaño XXL  |\n",
       "| 18 | 2023-07-20 | Gonzalo Jean Díaz López            | Dona sabor Frutilla tamaño M      |\n",
       "| 19 | 2023-10-13 | Claudio Sebastián Quintana Alvarez | Torta sabor Vainilla tamaño S     |"
      ],
      "text/plain": [
       "<IPython.core.display.Markdown object>"
      ]
     },
     "metadata": {},
     "output_type": "display_data"
    }
   ],
   "source": [
    "def generar_demanda():\n",
    "  fecha = fake.date_between_dates(date_start=inicio_rango, date_end=fecha_actual)\n",
    "  nombre_cliente = random.choice(nombres_clientes)\n",
    "  tipo_producto = random.choice(tipos_productos)\n",
    "\n",
    "  return {\"Fecha\": fecha, \"Nombre\": nombre_cliente, \"Producto demandado\": tipo_producto }\n",
    "\n",
    "num_demanda_clientes = 20\n",
    "\n",
    "demanda = [generar_demanda() for _ in range (num_demanda_clientes)]\n",
    "\n",
    "df = pd.DataFrame(demanda)\n",
    "\n",
    "#Guardar el archivo\n",
    "df.to_csv(path_demanda)\n",
    "\n",
    "# Visualizar en markdown\n",
    "display(Markdown(df.to_markdown()))"
   ]
  }
 ],
 "metadata": {
  "kernelspec": {
   "display_name": "genDB",
   "language": "python",
   "name": "python3"
  },
  "language_info": {
   "codemirror_mode": {
    "name": "ipython",
    "version": 3
   },
   "file_extension": ".py",
   "mimetype": "text/x-python",
   "name": "python",
   "nbconvert_exporter": "python",
   "pygments_lexer": "ipython3",
   "version": "3.11.5"
  }
 },
 "nbformat": 4,
 "nbformat_minor": 2
}
