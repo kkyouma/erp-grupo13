{
 "cells": [
  {
   "cell_type": "markdown",
   "metadata": {},
   "source": [
    "Librerias necesarias"
   ]
  },
  {
   "cell_type": "code",
   "execution_count": 4,
   "metadata": {},
   "outputs": [],
   "source": [
    "import pandas as pd\n",
    "from faker import Faker\n",
    "from datetime import datetime, timedelta\n",
    "from IPython.display import display, Markdown\n",
    "import random"
   ]
  },
  {
   "cell_type": "markdown",
   "metadata": {},
   "source": [
    "# Generacion de base de datos para clientes\n",
    "\n"
   ]
  },
  {
   "cell_type": "code",
   "execution_count": 7,
   "metadata": {},
   "outputs": [
    {
     "data": {
      "text/markdown": [
       "|    | Nombre                             | Ciudad            | Correo                    | Telefono        | Fecha de compra   |\n",
       "|---:|:-----------------------------------|:------------------|:--------------------------|:----------------|:------------------|\n",
       "|  0 | María Emilia Arias Matus           | Río Negro         | rosa20@example.net        | +56 600 607 402 | 2023-11-02        |\n",
       "|  1 | Magdalena Camila Velásquez Álvarez | Lo Espejo         | antonia38@example.com     | +56 9 9871 3877 | 2023-11-02        |\n",
       "|  2 | Karla María Abarca Gutiérrez       | Los Álamos        | bpino@example.net         | +56 2 3411 1030 | 2023-11-02        |\n",
       "|  3 | Nicole Paulina Orellana Almonacid  | Longaví           | scontreras@example.org    | +56 2 2872 9499 | 2023-11-02        |\n",
       "|  4 | María Juana Araya Ramírez          | Paredones         | juansalas@example.com     | +56 600 805 305 | 2023-11-02        |\n",
       "|  5 | Jacqueline Palacios-Ramírez        | Quinta de Tilcoco | mariaherrera@example.org  | +56 63 334 6682 | 2023-11-02        |\n",
       "|  6 | Guillermo Borja Ortega Faúndez     | Coltauco          | constanza90@example.org   | +56 71 213 7574 | 2023-11-02        |\n",
       "|  7 | Bárbara María Garrido Torres       | Carahue           | luissoto@example.net      | +56 9 4835 7139 | 2023-11-02        |\n",
       "|  8 | Maximiliano Carlos Luna Montecinos | Río Bueno         | diazhector@example.net    | +56 600 821 437 | 2023-11-02        |\n",
       "|  9 | Margarita Pérez Muñoz              | Santa Bárbara     | gherrera@example.org      | +56 2 3231 4712 | 2023-11-02        |\n",
       "| 10 | Inés Daniela Meza Godoy            | San Carlos        | lauracatalan@example.net  | +56 9 8234 2544 | 2023-11-02        |\n",
       "| 11 | Rodrigo Díaz Medina                | Caldera           | sotolidia@example.com     | +56 45 234 9859 | 2023-11-02        |\n",
       "| 12 | Juana María Bobadilla Letelier     | Diego de Almagro  | xparedes@example.net      | +56 9 8811 7667 | 2023-11-02        |\n",
       "| 13 | Magdalena Margarita Castro Villa   | Punitaqui         | lmena@example.com         | +56 9 4295 5199 | 2023-11-02        |\n",
       "| 14 | Juan Patricio Yáñez González       | Fresia            | maria49@example.com       | +56 2 2695 5165 | 2023-11-02        |\n",
       "| 15 | Daniella Patricia Hidalgo Farías   | Nueva Imperial    | raros@example.org         | +56 57 365 4834 | 2023-11-02        |\n",
       "| 16 | Bairon Jaime Gómez Cortés          | Pitrufquén        | yohanamunoz@example.net   | +56 44 275 0820 | 2023-11-02        |\n",
       "| 17 | Karla Hilda Sierra Saldaña         | Tortel            | gerardotorres@example.net | +56 600 214 025 | 2023-11-02        |\n",
       "| 18 | Jorge Emilio Riquelme Miranda      | El Quisco         | matildaleon@example.org   | +56 73 289 7569 | 2023-11-02        |\n",
       "| 19 | Tamara Allende                     | Curepto           | juan72@example.com        | +56 55 338 7174 | 2023-11-02        |"
      ],
      "text/plain": [
       "<IPython.core.display.Markdown object>"
      ]
     },
     "metadata": {},
     "output_type": "display_data"
    }
   ],
   "source": [
    "fake = Faker('es_CL')\n",
    "\n",
    "# Establecer un rango realista para las fechas de compras\n",
    "fecha_actual = datetime.now()\n",
    "\n",
    "inicio_rango = fecha_actual - timedelta (days = 180)\n",
    "\n",
    "def generar_cliente():\n",
    "  nombre = fake.name()\n",
    "  correo = fake.email()\n",
    "  telefono = fake.phone_number()\n",
    "  fecha = fake.date_between_dates(date_start=inicio_rango, date_end=fecha_actual)\n",
    "  ciudad = fake.city()\n",
    "\n",
    "  return {\"Nombre\": nombre, \"Ciudad\": ciudad, \"Correo\": correo, \"Telefono\": telefono, \"Fecha de compra\": fecha}\n",
    "\n",
    "cantidad_clientes = 20\n",
    "\n",
    "cliente = [generar_cliente() for _ in range (cantidad_clientes)]\n",
    "\n",
    "df = pd.DataFrame(cliente)\n",
    "\n",
    "display(Markdown(df.to_markdown()))"
   ]
  },
  {
   "cell_type": "markdown",
   "metadata": {},
   "source": [
    "# Generacion de base de datos para inventario"
   ]
  },
  {
   "cell_type": "code",
   "execution_count": 6,
   "metadata": {},
   "outputs": [
    {
     "data": {
      "text/markdown": [
       "|    | Nombre         | Descripcion            |   Precio |\n",
       "|---:|:---------------|:-----------------------|---------:|\n",
       "|  0 | maxime         | Rosca sabor Frutilla   |     1338 |\n",
       "|  1 | tempora        | Rosca sabor Caramelo   |     4414 |\n",
       "|  2 | odio           | Rosca sabor Vainilla   |     7185 |\n",
       "|  3 | quis           | Brownie sabor Caramelo |     2408 |\n",
       "|  4 | cum            | Rosca sabor Chocolate  |     6486 |\n",
       "|  5 | quod           | Torta sabor Nuez       |     3497 |\n",
       "|  6 | sunt           | Torta sabor Frutilla   |     1969 |\n",
       "|  7 | repellat       | Brownie sabor Caramelo |     9994 |\n",
       "|  8 | aut            | Torta sabor Vainilla   |     6000 |\n",
       "|  9 | repellendus    | Dona sabor Vainilla    |     6781 |\n",
       "| 10 | sequi          | Queque sabor Vainilla  |     7182 |\n",
       "| 11 | reiciendis     | Torta sabor Nuez       |     9697 |\n",
       "| 12 | ea             | Dona sabor Chocolate   |     2584 |\n",
       "| 13 | necessitatibus | Dona sabor Nuez        |     1010 |\n",
       "| 14 | voluptatem     | Dona sabor Vainilla    |     7872 |\n",
       "| 15 | laudantium     | Brownie sabor Frutilla |     5957 |\n",
       "| 16 | aspernatur     | Rosca sabor Frutilla   |     9171 |\n",
       "| 17 | perferendis    | Brownie sabor Nuez     |     4863 |\n",
       "| 18 | suscipit       | Rosca sabor Caramelo   |     7547 |\n",
       "| 19 | pariatur       | Torta sabor Caramelo   |     4234 |"
      ],
      "text/plain": [
       "<IPython.core.display.Markdown object>"
      ]
     },
     "metadata": {},
     "output_type": "display_data"
    }
   ],
   "source": [
    "# Listas de tipos de productos y sabores\n",
    "tipos_productos = ['Torta', 'Queque', 'Brownie', 'Rosca', 'Dona']\n",
    "sabores = ['Chocolate', 'Frutilla', 'Vainilla', 'Caramelo', 'Nuez']\n",
    "\n",
    "\n",
    "def generar_producto():\n",
    "  nombre_producto = fake.unique.word()\n",
    "  precio = fake.random_int(min=1000, max=10000)\n",
    "  tipo_producto = random.choice(tipos_productos)\n",
    "  sabor = random.choice(sabores)\n",
    "  descripcion = f\"{tipo_producto} sabor {sabor}\"\n",
    "\n",
    "  return {\"Nombre\": nombre_producto, \"Descripcion\": descripcion,\"Precio\": precio}\n",
    "\n",
    "num_productos = 20\n",
    "\n",
    "producto = [generar_producto() for _ in range (num_productos)]\n",
    "\n",
    "df = pd.DataFrame(producto)\n",
    "\n",
    "display(Markdown(df.to_markdown()))"
   ]
  }
 ],
 "metadata": {
  "kernelspec": {
   "display_name": "genDB",
   "language": "python",
   "name": "python3"
  },
  "language_info": {
   "codemirror_mode": {
    "name": "ipython",
    "version": 3
   },
   "file_extension": ".py",
   "mimetype": "text/x-python",
   "name": "python",
   "nbconvert_exporter": "python",
   "pygments_lexer": "ipython3",
   "version": "3.11.5"
  }
 },
 "nbformat": 4,
 "nbformat_minor": 2
}
